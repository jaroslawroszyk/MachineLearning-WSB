{
 "cells": [
  {
   "cell_type": "markdown",
   "id": "e36bc53d",
   "metadata": {},
   "source": [
    "# Uczenie maszynowe - Ćwiczenie 1 - NumPy - Zadania"
   ]
  },
  {
   "cell_type": "markdown",
   "id": "38a23cc5",
   "metadata": {},
   "source": [
    "**Zadanie 1**. Sprawdź do czego służą i przetestuj działanie następujących funkcji tworzących tablice `ndarray`:\n",
    "1. `asarray`\n",
    "2. `ones_like`\n",
    "3. `zeros_like`\n",
    "4. `full`\n",
    "5. `full_like`\n",
    "6. `eye`\n",
    "7. `identity`"
   ]
  },
  {
   "cell_type": "code",
   "execution_count": 1,
   "id": "cbb497e9",
   "metadata": {},
   "outputs": [],
   "source": [
    "import numpy as np"
   ]
  },
  {
   "cell_type": "markdown",
   "id": "b4d546ea",
   "metadata": {},
   "source": [
    "**Zadanie 2**. Sprawdź, w jaki sposób są konwertowane przez funkcję `astype` niecałkowite wartości zmiennoprzecinkowe na wartości całkowite."
   ]
  },
  {
   "cell_type": "markdown",
   "id": "65a3dde7",
   "metadata": {},
   "source": [
    "Szczegółowa informacja o typach wykorzystywanych w NumPy: https://numpy.org/doc/stable/reference/arrays.scalars.html#"
   ]
  },
  {
   "cell_type": "markdown",
   "id": "3a72737f",
   "metadata": {},
   "source": [
    "**Zadanie 3**. Przekonwertuj tablicę wartości zmiennoprzecinkowych na tablicę stringów. Następnie przekonwertuj tablicę stringów z powrotem na wartości zmiennoprzecinkowe."
   ]
  },
  {
   "cell_type": "markdown",
   "id": "f9dc3c2d",
   "metadata": {},
   "source": [
    "**Zadanie 4**. Zaprezentuj przykład rozgłaszania na dowolnej dwuargumentowej operacji gdzie pierwszym argumentem jest tablica trójwymiarowa, a drugim argumentem tablica dwuwymiarowa."
   ]
  },
  {
   "cell_type": "markdown",
   "id": "c3c46ade",
   "metadata": {},
   "source": [
    "**Zadanie 5**. Przeczytaj w dokumentacji zastosowanie następujących metod a następnie przetestuj ich działanie na dowolnej tablicy dwuwymiarowej:\n",
    "1. `sum`\n",
    "2. `mean`\n",
    "3. `std`\n",
    "4. `var`\n",
    "5. `min` \n",
    "6. `max`\n",
    "7. `argmin`\n",
    "8. `argmax`\n",
    "9. `cumsum`\n",
    "10. `cumprod`"
   ]
  },
  {
   "cell_type": "markdown",
   "id": "cda2b346",
   "metadata": {},
   "source": [
    "**Zadanie 8.** Wygeneruj wektor stworzony z wektora [1, 2, 3], aby każdy element powtarzał się 4 razy i taka sekwencja była powtórzona 3-krotnie."
   ]
  },
  {
   "cell_type": "markdown",
   "id": "f918fb1e",
   "metadata": {},
   "source": [
    "**Zadanie 9.** Wygeneruj wektor wartości od 1 do 10 co 0.25."
   ]
  },
  {
   "cell_type": "markdown",
   "id": "122ed08c",
   "metadata": {},
   "source": [
    "**Zadanie 10.** Wygeneruj wektor 43 wartości równomiernie  od 1 do 10."
   ]
  },
  {
   "cell_type": "markdown",
   "id": "af8d4d0b",
   "metadata": {},
   "source": [
    "**Zadanie 11.** Wyświetl co trzeci element z powyższego wektora."
   ]
  },
  {
   "cell_type": "markdown",
   "id": "1f089fa0",
   "metadata": {},
   "source": [
    "**Zadanie 12.** Wyjaśnij wynik działania komendy `np.arange(6) – 1`"
   ]
  },
  {
   "cell_type": "markdown",
   "id": "6be713c5",
   "metadata": {},
   "source": [
    "**Zadanie 13.** Utwórz macierz o 3 wierszach i 2 kolumnach poprzez:  \n",
    "1. wypełnienie jej wierszowo wektorem (1,2,3,4,5,6),  \n",
    "1. wypełnienie jej kolumnowo wektorem (1,2,3,4,5,6),  \n",
    "1. złożenie wektorów (1,2,3) i (4,5,6),  \n",
    "1. złożenie wektorów (1,4), (2,5) i (3,6).  "
   ]
  },
  {
   "cell_type": "markdown",
   "id": "7127cd3a",
   "metadata": {},
   "source": [
    "**Zadanie 14.** Utwórz macierz A o 6 wierszach i 6 kolumnach wypełnioną wierszowo liczbami od 1 do 36. Następnie korzystając z indeksowania utwórz macierz B:\n",
    "1. o 3 wierszach i 3 kolumnach zawierającą elementy z wierszy o parzystych numerach i kolumn o nieparzystych numerach z macierzy A, przy czym kolumny w odwrotnej kolejności, czyli: pierwszy wiersz macierzy B będzie zawierał liczby 11, 9, 7, drugi 23, 21, 19, a trzeci 35, 33 i 31,\n",
    "1. składającą się z dwóch ostatnich wierszy macierzy A,\n",
    "1. składającą się z dwóch środkowych kolumn macierzy A,"
   ]
  },
  {
   "cell_type": "markdown",
   "id": "d0b64f0b",
   "metadata": {},
   "source": [
    "**Zadanie 15**. Posortuj poniższą tablicę w wierszach."
   ]
  },
  {
   "cell_type": "code",
   "execution_count": 101,
   "id": "96c4388a",
   "metadata": {},
   "outputs": [],
   "source": [
    "T = np.array([[5,2,1,6],[4,8,3,1],[2,4,7,8]])"
   ]
  },
  {
   "cell_type": "markdown",
   "id": "5ad00d5e",
   "metadata": {},
   "source": [
    "**Zadanie 16**. Posortuj powyższą tablicę w kolumnach."
   ]
  },
  {
   "cell_type": "markdown",
   "id": "cbbf5545",
   "metadata": {},
   "source": [
    "**Zadanie 17**. Za pomocą `np.argsort()` podaj numery elementów oryginalnej tablicy w każdym wierszu, gdyby była ona posortowana w wierszach."
   ]
  },
  {
   "cell_type": "markdown",
   "id": "91e40628",
   "metadata": {},
   "source": [
    "**Zadanie 18**. Poniższą tablicę posortuj zgodnie z porządkiem leksykograficznym na podstawie kolumny drugiej, w następnej kolejności na podstawie kolumny czwartej, a ostatecznie szóstej."
   ]
  },
  {
   "cell_type": "code",
   "execution_count": 102,
   "id": "afa21f6d",
   "metadata": {},
   "outputs": [],
   "source": [
    "T = np.array([[5,2,5,2,7,4],[2,2,1,5,4,3],[1,3,4,1,4,5],[1,3,1,1,2,2]])"
   ]
  },
  {
   "cell_type": "markdown",
   "id": "191b59a9",
   "metadata": {},
   "source": [
    "**Zadanie 19**. Za pomocą `np.hsplit()` podziel powyższą tablicę na 3 równe części."
   ]
  },
  {
   "cell_type": "code",
   "execution_count": 103,
   "id": "c4606ee4",
   "metadata": {},
   "outputs": [
    {
     "data": {
      "text/plain": [
       "array([[5, 2, 5, 2, 7, 4],\n",
       "       [2, 2, 1, 5, 4, 3],\n",
       "       [1, 3, 4, 1, 4, 5],\n",
       "       [1, 3, 1, 1, 2, 2]])"
      ]
     },
     "execution_count": 103,
     "metadata": {},
     "output_type": "execute_result"
    }
   ],
   "source": [
    "T"
   ]
  },
  {
   "cell_type": "markdown",
   "id": "860a609e",
   "metadata": {},
   "source": [
    "**Zadanie 20**. Za pomocą `np.hsplit()` podziel powyższą tablicę na 4 części tak, aby w pierwszej , trzeciej i czwartej części znalazła się tylko jedna kolumna, a w drugiej części 3 kolumny."
   ]
  },
  {
   "cell_type": "markdown",
   "id": "7f69323a",
   "metadata": {},
   "source": [
    "**Zadanie 21**. Za pomocą `np.vsplit()` podziel powyższą tablicę na 3 dowolne części."
   ]
  },
  {
   "cell_type": "markdown",
   "id": "756a20c3",
   "metadata": {},
   "source": [
    "**Zadanie 22**. W trzech powyższych zadaniach, po podziale scal z powrotem części w jedną tablicę za pomocą `np.vstack()` lub `np.hstack()`."
   ]
  },
  {
   "cell_type": "markdown",
   "id": "1d7a2fff",
   "metadata": {},
   "source": [
    "**Zadanie 23**. Co robi z wektorem *w* poniższa operacja?"
   ]
  },
  {
   "cell_type": "code",
   "execution_count": 104,
   "id": "1168733a",
   "metadata": {},
   "outputs": [],
   "source": [
    "w = np.arange(1,11)\n",
    "w = w[:, np.newaxis]"
   ]
  },
  {
   "cell_type": "markdown",
   "id": "b31c2132",
   "metadata": {},
   "source": [
    "**Zadanie 24**. Co stanie się, jeżeli w powyszej opercji zamienimy pozycje indeksowania?"
   ]
  },
  {
   "cell_type": "markdown",
   "id": "15e06c7a",
   "metadata": {},
   "source": [
    "**Zadanie 25**. Korzystając z powyższego wektora i operatora `*`, wykorzystaj rozgłaszanie do wyliczenia tabliczki mnożenia do 100."
   ]
  },
  {
   "cell_type": "markdown",
   "id": "562ed5a6",
   "metadata": {},
   "source": [
    "**Zadanie 26**. Wykorzystaj funkcję `np.nonzero()` aby uzyskać indeksy wierszy i kolumn wszystkich elementów z tablicy z zadania 10, która są jednocześnie nie mniejsze od 2 i mniejsze od 7. Wypisz wszystkie takie pary (nr_wiersza, nr_kolumny) na ekranie (podpowiedź: komenda `zip`)."
   ]
  },
  {
   "cell_type": "code",
   "execution_count": 105,
   "id": "5582663e",
   "metadata": {},
   "outputs": [
    {
     "data": {
      "text/plain": [
       "(array([0, 0, 0, 0, 0, 1, 1, 1, 1, 1, 2, 2, 2, 2, 3, 3, 3], dtype=int64),\n",
       " array([0, 1, 2, 3, 5, 0, 1, 3, 4, 5, 1, 2, 4, 5, 1, 4, 5], dtype=int64))"
      ]
     },
     "execution_count": 105,
     "metadata": {},
     "output_type": "execute_result"
    }
   ],
   "source": [
    "np.nonzero((T >= 2) & (T < 7))"
   ]
  },
  {
   "cell_type": "markdown",
   "id": "2302def0",
   "metadata": {},
   "source": [
    "**Zadanie 27**. Korzystając z `np.unique()`, w poniższym wektorze znajdź wszystkie elementy unikatowe, ich indeksy oraz liczbę powtórzeń każdego z nich."
   ]
  },
  {
   "cell_type": "code",
   "execution_count": 106,
   "id": "3524a05f",
   "metadata": {},
   "outputs": [],
   "source": [
    "w = np.array([1,2,2,2,3,1,3,1,4,4,5,6,5,7,8,8])"
   ]
  },
  {
   "cell_type": "markdown",
   "id": "e2f192d2",
   "metadata": {},
   "source": [
    "**Zadanie 28**. Korzystając z `np.unique()`, w poniższej tablicy znajdź wszystkie unikatowe wiersze, ich indeksy oraz liczbę powtórzeń każdego z nich."
   ]
  },
  {
   "cell_type": "code",
   "execution_count": 107,
   "id": "90b1081f",
   "metadata": {},
   "outputs": [],
   "source": [
    "T = np.array([[1,2],[2,1],[2,2],[2,2],[2,3],[3,2],[1,2],[1,4],[2,1]])"
   ]
  },
  {
   "cell_type": "markdown",
   "id": "72acc3f2",
   "metadata": {},
   "source": [
    "**Zadanie 29** (*). Podczas ostatniego wykładu podano cztery sposoby liczenia odległości między klastrami. Wczytaj klastry z plików `klaster A.csv`, `klaster B.csv` i `klaster C.csv` za pomocą `np.loadtxt()`. Następnie wylicz odległości między każdą parą klastrów na każdy z czterech sposobów korzystając z możliwości NumPy. "
   ]
  },
  {
   "cell_type": "markdown",
   "id": "ef2bc309",
   "metadata": {},
   "source": [
    "**Zadanie 30** (*). Dla każdego sposobu pomiaru odległości pomiędzy klastrami wylicz miarę $wc(C)/bc(C)$."
   ]
  }
 ],
 "metadata": {
  "kernelspec": {
   "display_name": "Python 3 (ipykernel)",
   "language": "python",
   "name": "python3"
  },
  "language_info": {
   "codemirror_mode": {
    "name": "ipython",
    "version": 3
   },
   "file_extension": ".py",
   "mimetype": "text/x-python",
   "name": "python",
   "nbconvert_exporter": "python",
   "pygments_lexer": "ipython3",
   "version": "3.11.5"
  }
 },
 "nbformat": 4,
 "nbformat_minor": 5
}
