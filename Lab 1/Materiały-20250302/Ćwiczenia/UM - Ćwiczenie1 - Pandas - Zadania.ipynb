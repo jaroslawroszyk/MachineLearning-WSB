{
 "cells": [
  {
   "cell_type": "markdown",
   "id": "3bf75918",
   "metadata": {},
   "source": [
    "# Uczenie maszynowe - Ćwiczenie1 - Pandas - Zadania"
   ]
  },
  {
   "cell_type": "markdown",
   "id": "e44ab8b3",
   "metadata": {},
   "source": [
    "**Zadanie 1** Zapoznaj się z podanymi w https://pandas.pydata.org/docs/user_guide/dsintro.html#dataframe przykładami tworzenia ramki danych na podstawie:\n",
    "- słownika serii,\n",
    "- słownika tablic ndarray / list,\n",
    "- listy słowników,\n",
    "- słownika krotek."
   ]
  },
  {
   "cell_type": "markdown",
   "id": "4c0335ff",
   "metadata": {},
   "source": [
    "**Zadanie 2** Podaj własne przykłady zastosowania poniższych metod obiektów pandas Index:\n",
    "- difference,\n",
    "- intersection,\n",
    "- union,\n",
    "- isin,\n",
    "- delete,\n",
    "- drop,\n",
    "- insert,\n",
    "- is_monotonic,\n",
    "- is_unique,\n",
    "- unique.  \n",
    "  \n",
    "Dokumentacja do (metod) obiektu Index: https://pandas.pydata.org/docs/reference/api/pandas.Index.html"
   ]
  },
  {
   "cell_type": "markdown",
   "id": "5b2de4bc",
   "metadata": {},
   "source": [
    "**Zadanie 3** Podczas wykładu omawiana była metoda `reindex` oraz podane były przykłady jej zastosowania. Zapoznaj się z pozostałymi argumentami metody reindex i wykonaj przykłady z wykorzystaniem tych parametrów."
   ]
  },
  {
   "cell_type": "markdown",
   "id": "3970c131",
   "metadata": {},
   "source": [
    "**Zadanie 4**\n",
    "\n",
    "Wczytaj do ramki danych zbiór https://www.kaggle.com/datasets/jalota/books-dataset. Instrukcja wczytania zbioru danych do ramki danych za pomocą modułu \"kaggle\" jest przedstawiona w pliku Kaggle.ipynb w zespole ćwiczeń.\n",
    "\n",
    "Bezpośrednio na tej ramce danych, bez tworzenia danych pośrednich, wykonaj następujące polecenia: \n",
    "1. Usuń kolumnę 'Unnamed'\n",
    "2. Zmień nazwę kolumny 'Avilability' na 'Availability'.\n",
    "3. Zmień kolejność kolumn w taki sposób, aby kolumna 'Category' występowała przed kolumną'Title'.\n",
    "4. Wypisz kolumny posiadające takie same typy danych.\n",
    "5. Podaj całkowitą cenę książek w zbiorze (każda książka ma cenę i liczbę egzemplarzy 'Availability', które trzeba uwzględnić).\n",
    "6. Zmień kolejność indeksów w ramce danych tak, aby dane z ramki df występowały w porządku: alfabetycznym kategorii, następnie dostępnej (niemalejącej) liczby egzemplarzy, a następnie tytułu (alfabetycznie).\n",
    "7. Sprawdź, czy w ramce występują wartości NaN.\n",
    "8. Zmień indeks na pierwsze trzy znaki tytułu książki, a następnie wyświetl wszystkie wartości indeksu, które nie są unikatowe, wraz z liczbą ich wystąpień.\n",
    "9. Zmień wartości podatku w kolumnie 'Tax_amount' w następujący sposób. Wygeneruj losowe wartości całkowite z zakresu [0..20], po jednej wartości dla każdej kategorii książek. Następnie przypisz wszystkim książkom z każdej kategorii wygenerowaną dla tej kategorii liczbę, przy czym książkom o dostępności poniżej 5 przypisz podatek jako tę liczbę o połowę mniejszą (zaokrąglając w dół do liczby całkowitej). \n",
    "10. Zaktualizuj kolumnę ceny z podatkiem ('Price after tax') do aktualnej wartości podatku (zaokrąglając do drugiego miejsca po przecinku).\n",
    "11. Wyświetl tytuły i liczbę recenzji dla wszystkich książek historycznych o cenie wraz z podatkiem ('Price_after_tax') przekraczającej 35.\n",
    "12. Dla książek z powyższego punktu wylicz średnią cenę (na podstawie 'Price'), zaokrąglając do drugiego miejsca po przecinku. \n",
    "13. Dla książek z powyższego punktu ustal cenę ('Price') na otrzymaną w poprzednim punkcie wartość średnią, a następnie zaktualizuj cenę z podatkiem ('Price_after_tax'), zaokrąglając tę cenę do drugiego miejsca po przecinku. \n",
    "14. Dodaj kolumnę 'Expected_Tax_Revenue' wyliczoną jako spodziewana wartość podatku na podstawie liczby dostępnych egzemplarzy, ceny książki i wielkości podatku, zaokrąglając uzyskaną wartość do drugiego miejsca po przecinku.\n",
    "15. Usuń wszystkie książki z kategorii 'Horror' i 'Mystery'.\n",
    "16. Wyświetl tytuły książek, które mają opis ('Book_Description') dłuższy niż 2000 znaków, ale tytuł nie dłuższy niż 20 znaków."
   ]
  }
 ],
 "metadata": {
  "kernelspec": {
   "display_name": "Python 3 (ipykernel)",
   "language": "python",
   "name": "python3"
  },
  "language_info": {
   "codemirror_mode": {
    "name": "ipython",
    "version": 3
   },
   "file_extension": ".py",
   "mimetype": "text/x-python",
   "name": "python",
   "nbconvert_exporter": "python",
   "pygments_lexer": "ipython3",
   "version": "3.11.5"
  }
 },
 "nbformat": 4,
 "nbformat_minor": 5
}
