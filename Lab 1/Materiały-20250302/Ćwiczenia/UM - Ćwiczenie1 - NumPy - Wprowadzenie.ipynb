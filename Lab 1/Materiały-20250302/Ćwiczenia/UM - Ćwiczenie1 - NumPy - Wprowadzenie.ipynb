{
 "cells": [
  {
   "cell_type": "markdown",
   "id": "e36bc53d",
   "metadata": {
    "slideshow": {
     "slide_type": "slide"
    }
   },
   "source": [
    "dr inż. Mateusz Gorczyca\n",
    "\n",
    "### Uczenie maszynowe: \n",
    "\n",
    "# NumPy\n",
    "\\\n",
    "\\\n",
    "\\\n",
    "semestr zimowy 2023/24"
   ]
  },
  {
   "cell_type": "markdown",
   "id": "d55ecc0a",
   "metadata": {
    "slideshow": {
     "slide_type": "slide"
    }
   },
   "source": [
    "Na podstawie:  \n",
    "- rozdz. 4 książki `Wes McKinney, \"Python w analizie danych. Przetwarzanie danych za pomocą pakietów Pandas i NumPy oraz środowiska IPython. Wydanie III\", Helion, 2023`, https://helion.pl/ksiazki/python-w-analizie-danych-przetwarzanie-danych-za-pomoca-pakietow-pandas-i-numpy-oraz-srodowiska-jup-wes-mckinney,pyanda.htm#format/d"
   ]
  },
  {
   "cell_type": "markdown",
   "id": "fd99f273",
   "metadata": {
    "slideshow": {
     "slide_type": "subslide"
    }
   },
   "source": [
    " - dokumentacji NumPy: \n",
    "    - https://numpy.org/doc/stable/\n",
    "    - https://numpy.org/doc/stable/user/absolute_beginners.html\n",
    "    - https://numpy.org/doc/stable/user/index.html\n",
    " - Markdown:  \n",
    "     https://www.ibm.com/docs/en/watson-studio-local/1.2.3?topic=notebooks-markdown-jupyter-cheatsheet"
   ]
  },
  {
   "cell_type": "markdown",
   "id": "a662d7b6",
   "metadata": {
    "slideshow": {
     "slide_type": "slide"
    }
   },
   "source": [
    "### Plan wykładu:\n",
    " - Jupyter notebook\n",
    " - Jupyter markdown\n",
    " - Rise\n",
    " - Wstęp do NumPy\n",
    " - `ndarray` - $n$-wymiarowy obiekt tablicowy\n",
    " - Tworzenie obiektu `ndarray`"
   ]
  },
  {
   "cell_type": "markdown",
   "id": "c0e8ded4",
   "metadata": {
    "slideshow": {
     "slide_type": "subslide"
    }
   },
   "source": [
    " - Typ danych `ndarray`: `dtype`\n",
    " - Wektoryzacja\n",
    " - Indeksowanie\n",
    " - Indeksowanie wektorami\n",
    " - Transpozycja, permutacja osi\n",
    " - Funkcje uniwersalne\n",
    " - Metody warunkowe\n",
    " - Metody matematyczne i statystyczne tablic"
   ]
  },
  {
   "cell_type": "markdown",
   "id": "37282416",
   "metadata": {
    "slideshow": {
     "slide_type": "subslide"
    }
   },
   "source": [
    " - Metody dla tablic wartości logicznych\n",
    " - Sortowanie\n",
    " - Operacje na zbiorach\n",
    " - Przykład zastosowania"
   ]
  },
  {
   "cell_type": "markdown",
   "id": "fafc60f4",
   "metadata": {
    "slideshow": {
     "slide_type": "slide"
    }
   },
   "source": [
    "# Wstęp"
   ]
  },
  {
   "cell_type": "markdown",
   "id": "58d6f32c",
   "metadata": {
    "slideshow": {
     "slide_type": "slide"
    }
   },
   "source": [
    "NumPy jest pakietem do obliczeń numerycznych Python. Jest znacznie bardziej efektywny w przetwarzaniu danych tablicowych, niż standardowe typy danych Python."
   ]
  },
  {
   "cell_type": "code",
   "execution_count": 1,
   "id": "6aa15da4",
   "metadata": {
    "slideshow": {
     "slide_type": "fragment"
    }
   },
   "outputs": [],
   "source": [
    "import numpy as np"
   ]
  },
  {
   "cell_type": "code",
   "execution_count": 3,
   "id": "a4a6b7b3",
   "metadata": {
    "slideshow": {
     "slide_type": "subslide"
    }
   },
   "outputs": [
    {
     "name": "stdout",
     "output_type": "stream",
     "text": [
      "CPU times: total: 125 ms\n",
      "Wall time: 138 ms\n"
     ]
    }
   ],
   "source": [
    "numpy_array = np.arange(100000000)\n",
    "%time numpy_array = numpy_array * 2"
   ]
  },
  {
   "cell_type": "code",
   "execution_count": 4,
   "id": "b40fccbc",
   "metadata": {
    "slideshow": {
     "slide_type": "fragment"
    }
   },
   "outputs": [
    {
     "name": "stdout",
     "output_type": "stream",
     "text": [
      "CPU times: total: 7.77 s\n",
      "Wall time: 7.79 s\n"
     ]
    }
   ],
   "source": [
    "python_list = list(range(100000000))\n",
    "%time python_list = [x * 2 for x in python_list]"
   ]
  },
  {
   "cell_type": "markdown",
   "id": "b8b5d7df",
   "metadata": {
    "slideshow": {
     "slide_type": "slide"
    }
   },
   "source": [
    "# `ndarray` - $n$-wymiarowy obiekt tablicowy"
   ]
  },
  {
   "cell_type": "markdown",
   "id": "52949135",
   "metadata": {
    "slideshow": {
     "slide_type": "fragment"
    }
   },
   "source": [
    "Tworzenie tablicy na podstawie listy"
   ]
  },
  {
   "cell_type": "code",
   "execution_count": 5,
   "id": "0aa011fa",
   "metadata": {
    "slideshow": {
     "slide_type": "fragment"
    }
   },
   "outputs": [
    {
     "data": {
      "text/plain": [
       "array([1, 2, 3, 4, 5, 6])"
      ]
     },
     "execution_count": 5,
     "metadata": {},
     "output_type": "execute_result"
    }
   ],
   "source": [
    "tablica = np.array([1,2,3,4,5,6])\n",
    "tablica"
   ]
  },
  {
   "cell_type": "code",
   "execution_count": 6,
   "id": "54dad770",
   "metadata": {
    "slideshow": {
     "slide_type": "subslide"
    }
   },
   "outputs": [
    {
     "data": {
      "text/plain": [
       "array([[1, 2],\n",
       "       [3, 4],\n",
       "       [5, 6]])"
      ]
     },
     "execution_count": 6,
     "metadata": {},
     "output_type": "execute_result"
    }
   ],
   "source": [
    "tablica = np.array([[1,2],[3,4],[5,6]])\n",
    "tablica"
   ]
  },
  {
   "cell_type": "markdown",
   "id": "9c48de51",
   "metadata": {
    "slideshow": {
     "slide_type": "subslide"
    }
   },
   "source": [
    "Tworzenie losowej tablicy dwuwymiarowej o 3 wierszach i 4 kolumnach"
   ]
  },
  {
   "cell_type": "code",
   "execution_count": 7,
   "id": "3bc5e3c5",
   "metadata": {
    "slideshow": {
     "slide_type": "fragment"
    }
   },
   "outputs": [
    {
     "data": {
      "text/plain": [
       "array([[ 0.34008359,  2.21324041, -1.33776105, -1.21450123],\n",
       "       [ 2.03405648,  0.95443669, -1.14577485,  1.55954815],\n",
       "       [ 0.10173367,  1.39150312,  0.5493102 , -1.7295383 ]])"
      ]
     },
     "execution_count": 7,
     "metadata": {},
     "output_type": "execute_result"
    }
   ],
   "source": [
    "tablica = np.random.randn(3,4)\n",
    "tablica"
   ]
  },
  {
   "cell_type": "markdown",
   "id": "3cc9bdff",
   "metadata": {
    "slideshow": {
     "slide_type": "subslide"
    }
   },
   "source": [
    "Dla obiektów `ndarray` możemy wykorzystywać operatory arytmetyczne"
   ]
  },
  {
   "cell_type": "code",
   "execution_count": 8,
   "id": "8bbbd6d6",
   "metadata": {
    "slideshow": {
     "slide_type": "fragment"
    }
   },
   "outputs": [
    {
     "name": "stdout",
     "output_type": "stream",
     "text": [
      "[[ 0.34008359  2.21324041 -1.33776105 -1.21450123]\n",
      " [ 2.03405648  0.95443669 -1.14577485  1.55954815]\n",
      " [ 0.10173367  1.39150312  0.5493102  -1.7295383 ]]\n"
     ]
    },
    {
     "data": {
      "text/plain": [
       "array([[  6.80167182,  44.26480818, -26.75522104, -24.29002457],\n",
       "       [ 40.68112956,  19.08873382, -22.91549695,  31.190963  ],\n",
       "       [  2.03467331,  27.83006242,  10.98620399, -34.59076594]])"
      ]
     },
     "execution_count": 8,
     "metadata": {},
     "output_type": "execute_result"
    }
   ],
   "source": [
    "print(tablica)\n",
    "tablica*20"
   ]
  },
  {
   "cell_type": "code",
   "execution_count": 9,
   "id": "399cf31f",
   "metadata": {
    "slideshow": {
     "slide_type": "subslide"
    }
   },
   "outputs": [
    {
     "name": "stdout",
     "output_type": "stream",
     "text": [
      "[[ 0.34008359  2.21324041 -1.33776105 -1.21450123]\n",
      " [ 2.03405648  0.95443669 -1.14577485  1.55954815]\n",
      " [ 0.10173367  1.39150312  0.5493102  -1.7295383 ]]\n"
     ]
    },
    {
     "data": {
      "text/plain": [
       "array([[-0.68016718, -4.42648082,  2.6755221 ,  2.42900246],\n",
       "       [-4.06811296, -1.90887338,  2.29154969, -3.1190963 ],\n",
       "       [-0.20346733, -2.78300624, -1.0986204 ,  3.45907659]])"
      ]
     },
     "execution_count": 9,
     "metadata": {},
     "output_type": "execute_result"
    }
   ],
   "source": [
    "print(tablica)\n",
    "tablica - 3*tablica"
   ]
  },
  {
   "cell_type": "markdown",
   "id": "d29a28d4",
   "metadata": {
    "slideshow": {
     "slide_type": "subslide"
    }
   },
   "source": [
    "Atrybuty obiektu `ndarray` zawierają, m.in., liczbę wymiarów, kształt i typ danych"
   ]
  },
  {
   "cell_type": "code",
   "execution_count": 10,
   "id": "f9661b23",
   "metadata": {
    "slideshow": {
     "slide_type": "fragment"
    }
   },
   "outputs": [
    {
     "name": "stdout",
     "output_type": "stream",
     "text": [
      "[[ 0.34008359  2.21324041 -1.33776105 -1.21450123]\n",
      " [ 2.03405648  0.95443669 -1.14577485  1.55954815]\n",
      " [ 0.10173367  1.39150312  0.5493102  -1.7295383 ]]\n"
     ]
    },
    {
     "data": {
      "text/plain": [
       "2"
      ]
     },
     "execution_count": 10,
     "metadata": {},
     "output_type": "execute_result"
    }
   ],
   "source": [
    "print(tablica)\n",
    "tablica.ndim # tablica dwuwymiarowa"
   ]
  },
  {
   "cell_type": "code",
   "execution_count": 11,
   "id": "7f98217b",
   "metadata": {
    "slideshow": {
     "slide_type": "fragment"
    }
   },
   "outputs": [
    {
     "data": {
      "text/plain": [
       "(3, 4)"
      ]
     },
     "execution_count": 11,
     "metadata": {},
     "output_type": "execute_result"
    }
   ],
   "source": [
    "tablica.shape # dla tablicy 2-wymiarowej będzie to liczba wierszy i kolumn"
   ]
  },
  {
   "cell_type": "code",
   "execution_count": 12,
   "id": "6c675561",
   "metadata": {
    "slideshow": {
     "slide_type": "subslide"
    }
   },
   "outputs": [
    {
     "data": {
      "text/plain": [
       "dtype('float64')"
      ]
     },
     "execution_count": 12,
     "metadata": {},
     "output_type": "execute_result"
    }
   ],
   "source": [
    "tablica.dtype # tutaj będzie to typ zmiennoprzecinkowy (zapisany na 64 bitach)"
   ]
  },
  {
   "cell_type": "markdown",
   "id": "1678e4b6",
   "metadata": {
    "slideshow": {
     "slide_type": "slide"
    }
   },
   "source": [
    "## Tworzenie obiektu `ndarray`"
   ]
  },
  {
   "cell_type": "markdown",
   "id": "4c08da33",
   "metadata": {
    "slideshow": {
     "slide_type": "fragment"
    }
   },
   "source": [
    "Tworzenie tablicy na podstawie obiektu sekwencyjnego."
   ]
  },
  {
   "cell_type": "code",
   "execution_count": 13,
   "id": "03e8e7f9",
   "metadata": {
    "slideshow": {
     "slide_type": "fragment"
    }
   },
   "outputs": [
    {
     "name": "stdout",
     "output_type": "stream",
     "text": [
      "[0, 1, 2, 3, 4, 5, 6, 7, 8, 9]\n"
     ]
    }
   ],
   "source": [
    "dane = list(range(10))\n",
    "print(dane)"
   ]
  },
  {
   "cell_type": "code",
   "execution_count": 14,
   "id": "7b37e138",
   "metadata": {
    "slideshow": {
     "slide_type": "fragment"
    }
   },
   "outputs": [
    {
     "data": {
      "text/plain": [
       "array([0, 1, 2, 3, 4, 5, 6, 7, 8, 9])"
      ]
     },
     "execution_count": 14,
     "metadata": {},
     "output_type": "execute_result"
    }
   ],
   "source": [
    "tablica = np.array(dane)\n",
    "tablica # tablica jednowymiarowa"
   ]
  },
  {
   "cell_type": "code",
   "execution_count": 15,
   "id": "3de34f6e",
   "metadata": {
    "slideshow": {
     "slide_type": "subslide"
    }
   },
   "outputs": [
    {
     "data": {
      "text/plain": [
       "array([[ 0,  1,  2,  3,  4,  5,  6,  7,  8,  9],\n",
       "       [10, 11, 12, 13, 14, 15, 16, 17, 18, 19]])"
      ]
     },
     "execution_count": 15,
     "metadata": {},
     "output_type": "execute_result"
    }
   ],
   "source": [
    "dane2 = [dane, list(range(10,20))]\n",
    "tablica2 = np.array(dane2)\n",
    "tablica2 # tablica dwuwymiarowa"
   ]
  },
  {
   "cell_type": "markdown",
   "id": "1c810792",
   "metadata": {
    "slideshow": {
     "slide_type": "subslide"
    }
   },
   "source": [
    "Podczas tworzenia tablicy na podstawie danych wejściowych NumPy samodzielnie próbuje ustalić typ danych"
   ]
  },
  {
   "cell_type": "code",
   "execution_count": 16,
   "id": "ea83ec0f",
   "metadata": {
    "slideshow": {
     "slide_type": "fragment"
    }
   },
   "outputs": [
    {
     "name": "stdout",
     "output_type": "stream",
     "text": [
      "[[ 0  1  2  3  4  5  6  7  8  9]\n",
      " [10 11 12 13 14 15 16 17 18 19]]\n"
     ]
    },
    {
     "data": {
      "text/plain": [
       "dtype('int32')"
      ]
     },
     "execution_count": 16,
     "metadata": {},
     "output_type": "execute_result"
    }
   ],
   "source": [
    "print(tablica2)\n",
    "tablica2.dtype"
   ]
  },
  {
   "cell_type": "markdown",
   "id": "462144ad",
   "metadata": {
    "slideshow": {
     "slide_type": "subslide"
    }
   },
   "source": [
    "Można jednak jawnie określić typ danych."
   ]
  },
  {
   "cell_type": "code",
   "execution_count": 17,
   "id": "90066ca9",
   "metadata": {
    "slideshow": {
     "slide_type": "fragment"
    }
   },
   "outputs": [
    {
     "data": {
      "text/plain": [
       "dtype('int32')"
      ]
     },
     "execution_count": 17,
     "metadata": {},
     "output_type": "execute_result"
    }
   ],
   "source": [
    "dane3 = [1.0, 2.0, 3.0]\n",
    "tablica3 = np.array(dane2)\n",
    "tablica3.dtype"
   ]
  },
  {
   "cell_type": "markdown",
   "id": "9c843a97",
   "metadata": {
    "slideshow": {
     "slide_type": "subslide"
    }
   },
   "source": [
    "Tworzenie tablic wypełnionych zerami `np.zeros()`, jedynkami `np.ones()` i wartościami nieokreślonymi `np.empty()`"
   ]
  },
  {
   "cell_type": "code",
   "execution_count": 18,
   "id": "b09aeb7e",
   "metadata": {
    "slideshow": {
     "slide_type": "fragment"
    }
   },
   "outputs": [
    {
     "data": {
      "text/plain": [
       "array([[0., 0.],\n",
       "       [0., 0.],\n",
       "       [0., 0.],\n",
       "       [0., 0.]])"
      ]
     },
     "execution_count": 18,
     "metadata": {},
     "output_type": "execute_result"
    }
   ],
   "source": [
    "np.zeros((4,2)) # pierwszy argument to krotka z rozmiarami wymiarów"
   ]
  },
  {
   "cell_type": "code",
   "execution_count": 19,
   "id": "49359b37",
   "metadata": {
    "slideshow": {
     "slide_type": "subslide"
    }
   },
   "outputs": [
    {
     "data": {
      "text/plain": [
       "array([[[1.],\n",
       "        [1.]],\n",
       "\n",
       "       [[1.],\n",
       "        [1.]],\n",
       "\n",
       "       [[1.],\n",
       "        [1.]]])"
      ]
     },
     "execution_count": 19,
     "metadata": {},
     "output_type": "execute_result"
    }
   ],
   "source": [
    "np.ones((3,2,1))"
   ]
  },
  {
   "cell_type": "code",
   "execution_count": 20,
   "id": "92154b04",
   "metadata": {
    "slideshow": {
     "slide_type": "fragment"
    }
   },
   "outputs": [
    {
     "data": {
      "text/plain": [
       "array([0.00000000e+000, 8.29053751e-312, 8.29053752e-312, 8.29053750e-312,\n",
       "       1.89120735e+219])"
      ]
     },
     "execution_count": 20,
     "metadata": {},
     "output_type": "execute_result"
    }
   ],
   "source": [
    "np.empty(5) # tylko jeden wymiar; komórki pamięci nie są inicjowane"
   ]
  },
  {
   "cell_type": "markdown",
   "id": "1de2c9b6",
   "metadata": {
    "slideshow": {
     "slide_type": "subslide"
    }
   },
   "source": [
    "Tworzenie tablicy za pomocą funkcji `np.arange()`, odpowiednika `range()`"
   ]
  },
  {
   "cell_type": "code",
   "execution_count": 21,
   "id": "44a68999",
   "metadata": {
    "slideshow": {
     "slide_type": "fragment"
    }
   },
   "outputs": [
    {
     "data": {
      "text/plain": [
       "array([  5,  15,  25,  35,  45,  55,  65,  75,  85,  95, 105, 115])"
      ]
     },
     "execution_count": 21,
     "metadata": {},
     "output_type": "execute_result"
    }
   ],
   "source": [
    "np.arange(5,125,10) # początek, koniec, krok"
   ]
  },
  {
   "cell_type": "markdown",
   "id": "a4155b52",
   "metadata": {
    "slideshow": {
     "slide_type": "slide"
    }
   },
   "source": [
    "## Typ danych `ndarray`: `dtype`"
   ]
  },
  {
   "cell_type": "markdown",
   "id": "83cca640",
   "metadata": {
    "slideshow": {
     "slide_type": "fragment"
    }
   },
   "source": [
    "Przy tworzeniu tablicy można jawnie podać typ danych przechowywanych w tablicy"
   ]
  },
  {
   "cell_type": "code",
   "execution_count": 22,
   "id": "820e7c70",
   "metadata": {
    "slideshow": {
     "slide_type": "fragment"
    }
   },
   "outputs": [
    {
     "data": {
      "text/plain": [
       "array([0, 1, 2, 3, 4, 5, 6, 7, 8, 9])"
      ]
     },
     "execution_count": 22,
     "metadata": {},
     "output_type": "execute_result"
    }
   ],
   "source": [
    "tablica_int = np.arange(10, dtype=np.int32)\n",
    "tablica_int"
   ]
  },
  {
   "cell_type": "code",
   "execution_count": 23,
   "id": "f5ef16d7",
   "metadata": {
    "slideshow": {
     "slide_type": "subslide"
    }
   },
   "outputs": [
    {
     "data": {
      "text/plain": [
       "dtype('int32')"
      ]
     },
     "execution_count": 23,
     "metadata": {},
     "output_type": "execute_result"
    }
   ],
   "source": [
    "tablica_int.dtype"
   ]
  },
  {
   "cell_type": "code",
   "execution_count": 24,
   "id": "fb673417",
   "metadata": {
    "slideshow": {
     "slide_type": "fragment"
    }
   },
   "outputs": [
    {
     "data": {
      "text/plain": [
       "array([0., 1., 2., 3., 4., 5., 6., 7., 8., 9.])"
      ]
     },
     "execution_count": 24,
     "metadata": {},
     "output_type": "execute_result"
    }
   ],
   "source": [
    "tablica_double = np.arange(10, dtype=np.double)\n",
    "tablica_double"
   ]
  },
  {
   "cell_type": "code",
   "execution_count": 25,
   "id": "702d5991",
   "metadata": {
    "slideshow": {
     "slide_type": "fragment"
    }
   },
   "outputs": [
    {
     "data": {
      "text/plain": [
       "dtype('float64')"
      ]
     },
     "execution_count": 25,
     "metadata": {},
     "output_type": "execute_result"
    }
   ],
   "source": [
    "tablica_double.dtype"
   ]
  },
  {
   "cell_type": "markdown",
   "id": "86a7e09a",
   "metadata": {
    "slideshow": {
     "slide_type": "subslide"
    }
   },
   "source": [
    "Konwersja typu za pomocą `astype`"
   ]
  },
  {
   "cell_type": "code",
   "execution_count": 26,
   "id": "e54c1388",
   "metadata": {
    "slideshow": {
     "slide_type": "fragment"
    }
   },
   "outputs": [
    {
     "data": {
      "text/plain": [
       "array([0, 1, 2, 3, 4, 5, 6, 7, 8, 9])"
      ]
     },
     "execution_count": 26,
     "metadata": {},
     "output_type": "execute_result"
    }
   ],
   "source": [
    "tablica_int2 = tablica_double.astype(np.int32)\n",
    "tablica_int2"
   ]
  },
  {
   "cell_type": "markdown",
   "id": "65a3dde7",
   "metadata": {
    "slideshow": {
     "slide_type": "fragment"
    }
   },
   "source": [
    "Szczegółowa informacja o typach wykorzystywanych w NumPy: https://numpy.org/doc/stable/reference/arrays.scalars.html#"
   ]
  },
  {
   "cell_type": "markdown",
   "id": "826b0566",
   "metadata": {
    "slideshow": {
     "slide_type": "slide"
    }
   },
   "source": [
    "## Wektoryzacja"
   ]
  },
  {
   "cell_type": "markdown",
   "id": "9744b189",
   "metadata": {
    "slideshow": {
     "slide_type": "subslide"
    }
   },
   "source": [
    "Podobnie jak w języku R, pewne operacja działające na wszystkich elementach tablicy nie wymagają wykorzystywania pętli `for`. Poniżej przykład analogiczne do omawianych w trakcie poprzedniego semestru w języku R (RWprowadzenie2022 - część 1.pdf)"
   ]
  },
  {
   "cell_type": "code",
   "execution_count": 27,
   "id": "8dcfebde",
   "metadata": {
    "slideshow": {
     "slide_type": "subslide"
    }
   },
   "outputs": [
    {
     "data": {
      "text/plain": [
       "array([1, 2, 3, 4, 5, 6])"
      ]
     },
     "execution_count": 27,
     "metadata": {},
     "output_type": "execute_result"
    }
   ],
   "source": [
    "wektorA = np.arange(1,7)\n",
    "wektorB = np.arange(-4,2,1)\n",
    "wektorA"
   ]
  },
  {
   "cell_type": "code",
   "execution_count": 29,
   "id": "0faab365",
   "metadata": {
    "slideshow": {
     "slide_type": "fragment"
    }
   },
   "outputs": [
    {
     "data": {
      "text/plain": [
       "array([-4, -3, -2, -1,  0,  1])"
      ]
     },
     "execution_count": 29,
     "metadata": {},
     "output_type": "execute_result"
    }
   ],
   "source": [
    "wektorB"
   ]
  },
  {
   "cell_type": "code",
   "execution_count": 30,
   "id": "66f4b65a",
   "metadata": {
    "slideshow": {
     "slide_type": "fragment"
    }
   },
   "outputs": [
    {
     "data": {
      "text/plain": [
       "array([-3, -1,  1,  3,  5,  7])"
      ]
     },
     "execution_count": 30,
     "metadata": {},
     "output_type": "execute_result"
    }
   ],
   "source": [
    "wektorA + wektorB"
   ]
  },
  {
   "cell_type": "code",
   "execution_count": 31,
   "id": "b062a4af",
   "metadata": {
    "slideshow": {
     "slide_type": "subslide"
    }
   },
   "outputs": [
    {
     "name": "stdout",
     "output_type": "stream",
     "text": [
      "[1 2 3 4 5 6]\n",
      "[-4 -3 -2 -1  0  1]\n"
     ]
    }
   ],
   "source": [
    "print(wektorA)\n",
    "print(wektorB)"
   ]
  },
  {
   "cell_type": "code",
   "execution_count": 32,
   "id": "7475a7c4",
   "metadata": {
    "slideshow": {
     "slide_type": "fragment"
    }
   },
   "outputs": [
    {
     "data": {
      "text/plain": [
       "array([5, 5, 5, 5, 5, 5])"
      ]
     },
     "execution_count": 32,
     "metadata": {},
     "output_type": "execute_result"
    }
   ],
   "source": [
    "wektorA - wektorB"
   ]
  },
  {
   "cell_type": "code",
   "execution_count": 33,
   "id": "985d1b02",
   "metadata": {
    "slideshow": {
     "slide_type": "subslide"
    }
   },
   "outputs": [
    {
     "data": {
      "text/plain": [
       "array([1, 2, 3, 4, 5, 6])"
      ]
     },
     "metadata": {},
     "output_type": "display_data"
    },
    {
     "data": {
      "text/plain": [
       "array([-1, -2, -3, -4])"
      ]
     },
     "execution_count": 33,
     "metadata": {},
     "output_type": "execute_result"
    }
   ],
   "source": [
    "display(wektorA)\n",
    "wektorD = np.arange(-1,-5,-1)\n",
    "wektorD"
   ]
  },
  {
   "cell_type": "code",
   "execution_count": 34,
   "id": "60e5f6ab",
   "metadata": {
    "slideshow": {
     "slide_type": "fragment"
    }
   },
   "outputs": [
    {
     "ename": "ValueError",
     "evalue": "operands could not be broadcast together with shapes (6,) (4,) ",
     "output_type": "error",
     "traceback": [
      "\u001b[1;31m---------------------------------------------------------------------------\u001b[0m",
      "\u001b[1;31mValueError\u001b[0m                                Traceback (most recent call last)",
      "Cell \u001b[1;32mIn[34], line 1\u001b[0m\n\u001b[1;32m----> 1\u001b[0m \u001b[43mwektorA\u001b[49m\u001b[43m \u001b[49m\u001b[38;5;241;43m+\u001b[39;49m\u001b[43m \u001b[49m\u001b[43mwektorD\u001b[49m \u001b[38;5;66;03m# jaki był rezultat w R?\u001b[39;00m\n",
      "\u001b[1;31mValueError\u001b[0m: operands could not be broadcast together with shapes (6,) (4,) "
     ]
    }
   ],
   "source": [
    "wektorA + wektorD # jaki był rezultat w R?"
   ]
  },
  {
   "cell_type": "code",
   "execution_count": 35,
   "id": "4030f395",
   "metadata": {
    "scrolled": true,
    "slideshow": {
     "slide_type": "subslide"
    }
   },
   "outputs": [
    {
     "name": "stdout",
     "output_type": "stream",
     "text": [
      "[1 2 3 4 5 6]\n",
      "-1\n"
     ]
    },
    {
     "data": {
      "text/plain": [
       "array([-1, -2, -3, -4, -5, -6])"
      ]
     },
     "execution_count": 35,
     "metadata": {},
     "output_type": "execute_result"
    }
   ],
   "source": [
    "print(wektorA)\n",
    "wektorE = np.array(-1)\n",
    "print(wektorE)\n",
    "wektorA * wektorE"
   ]
  },
  {
   "cell_type": "markdown",
   "id": "88627909",
   "metadata": {
    "slideshow": {
     "slide_type": "subslide"
    }
   },
   "source": [
    "Porównania:"
   ]
  },
  {
   "cell_type": "code",
   "execution_count": 37,
   "id": "9c3501c1",
   "metadata": {},
   "outputs": [
    {
     "data": {
      "text/plain": [
       "array([1, 2, 3, 4, 5, 6])"
      ]
     },
     "execution_count": 37,
     "metadata": {},
     "output_type": "execute_result"
    }
   ],
   "source": [
    "wektorA"
   ]
  },
  {
   "cell_type": "code",
   "execution_count": 36,
   "id": "e852ae9d",
   "metadata": {
    "slideshow": {
     "slide_type": "fragment"
    }
   },
   "outputs": [
    {
     "data": {
      "text/plain": [
       "array([ True,  True,  True, False, False, False])"
      ]
     },
     "execution_count": 36,
     "metadata": {},
     "output_type": "execute_result"
    }
   ],
   "source": [
    "wektorA < 4"
   ]
  },
  {
   "cell_type": "code",
   "execution_count": 38,
   "id": "07574201",
   "metadata": {
    "slideshow": {
     "slide_type": "fragment"
    }
   },
   "outputs": [
    {
     "name": "stdout",
     "output_type": "stream",
     "text": [
      "[1 2 3 4 5 6]\n",
      "[ 4  3  2  1  0 -1]\n"
     ]
    },
    {
     "data": {
      "text/plain": [
       "array([ True,  True, False, False, False, False])"
      ]
     },
     "execution_count": 38,
     "metadata": {},
     "output_type": "execute_result"
    }
   ],
   "source": [
    "print(wektorA)\n",
    "wektorF = np.arange(4,-2,-1)\n",
    "print(wektorF)\n",
    "wektorA <= wektorF"
   ]
  },
  {
   "cell_type": "markdown",
   "id": "14eded37",
   "metadata": {
    "slideshow": {
     "slide_type": "subslide"
    }
   },
   "source": [
    "Dla operacji na tablicach o nierównych rozmiarach stosuje się tzw. rozłgaszanie (broadcasting): https://numpy.org/doc/stable/user/basics.broadcasting.html"
   ]
  },
  {
   "cell_type": "markdown",
   "id": "034e6f23",
   "metadata": {
    "slideshow": {
     "slide_type": "slide"
    }
   },
   "source": [
    "## Indeksowanie"
   ]
  },
  {
   "cell_type": "markdown",
   "id": "a64f625a",
   "metadata": {
    "slideshow": {
     "slide_type": "subslide"
    }
   },
   "source": [
    "Dla tablic jednowymiarowych indeksowanie wygląda tak, jak w standardowych typach sekwencyjnych:"
   ]
  },
  {
   "cell_type": "code",
   "execution_count": 39,
   "id": "2889af86",
   "metadata": {
    "slideshow": {
     "slide_type": "fragment"
    }
   },
   "outputs": [
    {
     "name": "stdout",
     "output_type": "stream",
     "text": [
      "[100 101 102 103 104 105 106 107 108 109]\n"
     ]
    },
    {
     "data": {
      "text/plain": [
       "array([102, 103, 104, 105])"
      ]
     },
     "execution_count": 39,
     "metadata": {},
     "output_type": "execute_result"
    }
   ],
   "source": [
    "tablica = np.arange(100,110)\n",
    "print(tablica)\n",
    "tablica[2:6]"
   ]
  },
  {
   "cell_type": "markdown",
   "id": "28450014",
   "metadata": {
    "slideshow": {
     "slide_type": "subslide"
    }
   },
   "source": [
    "Przy przypisaniu do zakresu stosowane jest rozgłaszanie"
   ]
  },
  {
   "cell_type": "code",
   "execution_count": 40,
   "id": "b7f19480",
   "metadata": {
    "slideshow": {
     "slide_type": "fragment"
    }
   },
   "outputs": [
    {
     "name": "stdout",
     "output_type": "stream",
     "text": [
      "[100 101 102 103 104 105 106 107 108 109]\n"
     ]
    },
    {
     "data": {
      "text/plain": [
       "array([100, 101,  -1,  -1,  -1,  -1, 106, 107, 108, 109])"
      ]
     },
     "execution_count": 40,
     "metadata": {},
     "output_type": "execute_result"
    }
   ],
   "source": [
    "print(tablica)\n",
    "tablica[2:6] = -1\n",
    "tablica"
   ]
  },
  {
   "cell_type": "markdown",
   "id": "eb27aab7",
   "metadata": {
    "slideshow": {
     "slide_type": "subslide"
    }
   },
   "source": [
    "Uwaga! Przypisanie wycinka tablicy nie tworzy kopii tego wycinka, lecz nadal odnosi się do tej tablicy!"
   ]
  },
  {
   "cell_type": "code",
   "execution_count": 41,
   "id": "12606600",
   "metadata": {
    "slideshow": {
     "slide_type": "fragment"
    }
   },
   "outputs": [
    {
     "name": "stdout",
     "output_type": "stream",
     "text": [
      "[100 101  -1  -1  -1  -1 106 107 108 109]\n",
      "[-1 -1 -1 -1]\n",
      "[-100 -100 -100 -100]\n",
      "[ 100  101 -100 -100 -100 -100  106  107  108  109]\n"
     ]
    }
   ],
   "source": [
    "print(tablica)\n",
    "wycinek = tablica[2:6]\n",
    "print(wycinek)\n",
    "wycinek[:] = -100\n",
    "print(wycinek)\n",
    "print(tablica)"
   ]
  },
  {
   "cell_type": "markdown",
   "id": "bc963f45",
   "metadata": {
    "slideshow": {
     "slide_type": "subslide"
    }
   },
   "source": [
    "Aby operować na kopii, należy ją jawnie utworzyć:"
   ]
  },
  {
   "cell_type": "code",
   "execution_count": 42,
   "id": "2cef4c3e",
   "metadata": {
    "slideshow": {
     "slide_type": "fragment"
    }
   },
   "outputs": [
    {
     "name": "stdout",
     "output_type": "stream",
     "text": [
      "[ 100  101 -100 -100 -100 -100  106  107  108  109]\n",
      "[-100 -100 -100 -100]\n",
      "[1000 1000 1000 1000]\n",
      "[ 100  101 -100 -100 -100 -100  106  107  108  109]\n"
     ]
    }
   ],
   "source": [
    "print(tablica)\n",
    "wycinek = tablica[2:6].copy()\n",
    "print(wycinek)\n",
    "wycinek[:] = 1000 # teraz modyfikujemy tylko kopię w wycinku\n",
    "print(wycinek)\n",
    "print(tablica)"
   ]
  },
  {
   "cell_type": "markdown",
   "id": "cd55a8ac",
   "metadata": {
    "slideshow": {
     "slide_type": "subslide"
    }
   },
   "source": [
    "Dla tablic o większej liczbie wymiarów indeksowanie jest rekurencyjne"
   ]
  },
  {
   "cell_type": "markdown",
   "id": "5556fce5",
   "metadata": {
    "slideshow": {
     "slide_type": "fragment"
    }
   },
   "source": [
    "Tworzenie tablicy trójwymiarowej na podstawie następującego wektora:"
   ]
  },
  {
   "cell_type": "code",
   "execution_count": 43,
   "id": "7f17f820",
   "metadata": {
    "slideshow": {
     "slide_type": "fragment"
    }
   },
   "outputs": [
    {
     "name": "stdout",
     "output_type": "stream",
     "text": [
      "[ 0  1  2  3  4  5  6  7  8  9 10 11 12 13 14 15 16 17 18 19 20 21 22 23\n",
      " 24 25 26 27 28 29 30 31 32 33 34 35 36 37 38 39 40 41 42 43 44 45 46 47\n",
      " 48 49 50 51 52 53 54 55 56 57 58 59]\n"
     ]
    }
   ],
   "source": [
    "print(np.arange(60))"
   ]
  },
  {
   "cell_type": "code",
   "execution_count": 44,
   "id": "5ba7b808",
   "metadata": {
    "slideshow": {
     "slide_type": "subslide"
    }
   },
   "outputs": [
    {
     "data": {
      "text/plain": [
       "array([[[ 0,  1,  2,  3,  4],\n",
       "        [ 5,  6,  7,  8,  9],\n",
       "        [10, 11, 12, 13, 14],\n",
       "        [15, 16, 17, 18, 19]],\n",
       "\n",
       "       [[20, 21, 22, 23, 24],\n",
       "        [25, 26, 27, 28, 29],\n",
       "        [30, 31, 32, 33, 34],\n",
       "        [35, 36, 37, 38, 39]],\n",
       "\n",
       "       [[40, 41, 42, 43, 44],\n",
       "        [45, 46, 47, 48, 49],\n",
       "        [50, 51, 52, 53, 54],\n",
       "        [55, 56, 57, 58, 59]]])"
      ]
     },
     "execution_count": 44,
     "metadata": {},
     "output_type": "execute_result"
    }
   ],
   "source": [
    "tablica = np.arange(60).reshape((3,4,5)) # zmiana kształtu z wektora na tablicę trójwymiarową\n",
    "tablica "
   ]
  },
  {
   "cell_type": "code",
   "execution_count": 45,
   "id": "3147019b",
   "metadata": {
    "slideshow": {
     "slide_type": "subslide"
    }
   },
   "outputs": [
    {
     "data": {
      "text/plain": [
       "array([[20, 21, 22, 23, 24],\n",
       "       [25, 26, 27, 28, 29],\n",
       "       [30, 31, 32, 33, 34],\n",
       "       [35, 36, 37, 38, 39]])"
      ]
     },
     "execution_count": 45,
     "metadata": {},
     "output_type": "execute_result"
    }
   ],
   "source": [
    "tablica[1] # rezultat to dwuwymiarowa tablica"
   ]
  },
  {
   "cell_type": "code",
   "execution_count": 46,
   "id": "5cb5dffa",
   "metadata": {
    "slideshow": {
     "slide_type": "fragment"
    }
   },
   "outputs": [
    {
     "data": {
      "text/plain": [
       "array([30, 31, 32, 33, 34])"
      ]
     },
     "execution_count": 46,
     "metadata": {},
     "output_type": "execute_result"
    }
   ],
   "source": [
    "tablica[1][2] # rezultat to jednowymiarowa tablica"
   ]
  },
  {
   "cell_type": "code",
   "execution_count": 47,
   "id": "527f97d5",
   "metadata": {
    "slideshow": {
     "slide_type": "fragment"
    }
   },
   "outputs": [
    {
     "data": {
      "text/plain": [
       "33"
      ]
     },
     "execution_count": 47,
     "metadata": {},
     "output_type": "execute_result"
    }
   ],
   "source": [
    "tablica[1][2][3] # rezultat to skalar"
   ]
  },
  {
   "cell_type": "markdown",
   "id": "68f8ff36",
   "metadata": {
    "slideshow": {
     "slide_type": "subslide"
    }
   },
   "source": [
    "Alternatywny sposób adresowania z przecinkami"
   ]
  },
  {
   "cell_type": "code",
   "execution_count": 48,
   "id": "eb0a045c",
   "metadata": {
    "slideshow": {
     "slide_type": "fragment"
    }
   },
   "outputs": [
    {
     "data": {
      "text/plain": [
       "array([30, 31, 32, 33, 34])"
      ]
     },
     "execution_count": 48,
     "metadata": {},
     "output_type": "execute_result"
    }
   ],
   "source": [
    "tablica[1,2] # rezultat to jednowymiarowa tablica"
   ]
  },
  {
   "cell_type": "code",
   "execution_count": 49,
   "id": "7f675f34",
   "metadata": {
    "slideshow": {
     "slide_type": "fragment"
    }
   },
   "outputs": [
    {
     "data": {
      "text/plain": [
       "33"
      ]
     },
     "execution_count": 49,
     "metadata": {},
     "output_type": "execute_result"
    }
   ],
   "source": [
    "tablica[1,2,3] # rezultat to skalar"
   ]
  },
  {
   "cell_type": "markdown",
   "id": "bc452abb",
   "metadata": {
    "slideshow": {
     "slide_type": "subslide"
    }
   },
   "source": [
    "Przykład rozgłaszania przy indeksowaniu"
   ]
  },
  {
   "cell_type": "code",
   "execution_count": 50,
   "id": "998f434d",
   "metadata": {
    "slideshow": {
     "slide_type": "subslide"
    }
   },
   "outputs": [
    {
     "data": {
      "text/plain": [
       "array([[[ 0,  1,  2,  3,  4],\n",
       "        [ 5,  6,  7,  8,  9],\n",
       "        [10, 11, 12, 13, 14],\n",
       "        [15, 16, 17, 18, 19]],\n",
       "\n",
       "       [[20, 21, 22, 23, 24],\n",
       "        [25, 26, 27, 28, 29],\n",
       "        [30, 31, 32, 33, 34],\n",
       "        [35, 36, 37, 38, 39]],\n",
       "\n",
       "       [[40, 41, 42, 43, 44],\n",
       "        [45, 46, 47, 48, 49],\n",
       "        [50, 51, 52, 53, 54],\n",
       "        [55, 56, 57, 58, 59]]])"
      ]
     },
     "execution_count": 50,
     "metadata": {},
     "output_type": "execute_result"
    }
   ],
   "source": [
    "tablica"
   ]
  },
  {
   "cell_type": "code",
   "execution_count": 51,
   "id": "39063ae9",
   "metadata": {
    "slideshow": {
     "slide_type": "subslide"
    }
   },
   "outputs": [
    {
     "data": {
      "text/plain": [
       "array([[[ 0,  1,  2,  3,  4],\n",
       "        [ 5,  6,  7,  8,  9],\n",
       "        [10, 11, 12, 13, 14],\n",
       "        [15, 16, 17, 18, 19]],\n",
       "\n",
       "       [[ 7,  7,  7,  7,  7],\n",
       "        [ 7,  7,  7,  7,  7],\n",
       "        [ 7,  7,  7,  7,  7],\n",
       "        [ 7,  7,  7,  7,  7]],\n",
       "\n",
       "       [[40, 41, 42, 43, 44],\n",
       "        [45, 46, 47, 48, 49],\n",
       "        [50, 51, 52, 53, 54],\n",
       "        [55, 56, 57, 58, 59]]])"
      ]
     },
     "execution_count": 51,
     "metadata": {},
     "output_type": "execute_result"
    }
   ],
   "source": [
    "tablica[1] = 7\n",
    "tablica"
   ]
  },
  {
   "cell_type": "markdown",
   "id": "f7837d15",
   "metadata": {
    "slideshow": {
     "slide_type": "subslide"
    }
   },
   "source": [
    "Podawanie zakresu wycinka dla każdego wymiaru"
   ]
  },
  {
   "cell_type": "code",
   "execution_count": null,
   "id": "f918d218",
   "metadata": {
    "slideshow": {
     "slide_type": "subslide"
    }
   },
   "outputs": [],
   "source": [
    "tablica"
   ]
  },
  {
   "cell_type": "code",
   "execution_count": 52,
   "id": "bc5a46b3",
   "metadata": {
    "slideshow": {
     "slide_type": "subslide"
    }
   },
   "outputs": [
    {
     "data": {
      "text/plain": [
       "array([[[11, 12, 13, 14],\n",
       "        [16, 17, 18, 19]]])"
      ]
     },
     "execution_count": 52,
     "metadata": {},
     "output_type": "execute_result"
    }
   ],
   "source": [
    "tablica[:1,2:4,1:]"
   ]
  },
  {
   "cell_type": "markdown",
   "id": "6f1dc3ca",
   "metadata": {
    "slideshow": {
     "slide_type": "subslide"
    }
   },
   "source": [
    "Możliwe jest także indeksowanie za pomocą warunków logicznych"
   ]
  },
  {
   "cell_type": "code",
   "execution_count": 53,
   "id": "ae233329",
   "metadata": {
    "slideshow": {
     "slide_type": "subslide"
    }
   },
   "outputs": [
    {
     "data": {
      "text/plain": [
       "array([[[ 0,  1,  2,  3,  4],\n",
       "        [ 5,  6,  7,  8,  9],\n",
       "        [10, 11, 12, 13, 14],\n",
       "        [15, 16, 17, 18, 19]],\n",
       "\n",
       "       [[ 7,  7,  7,  7,  7],\n",
       "        [ 7,  7,  7,  7,  7],\n",
       "        [ 7,  7,  7,  7,  7],\n",
       "        [ 7,  7,  7,  7,  7]],\n",
       "\n",
       "       [[40, 41, 42, 43, 44],\n",
       "        [45, 46, 47, 48, 49],\n",
       "        [50, 51, 52, 53, 54],\n",
       "        [55, 56, 57, 58, 59]]])"
      ]
     },
     "execution_count": 53,
     "metadata": {},
     "output_type": "execute_result"
    }
   ],
   "source": [
    "tablica"
   ]
  },
  {
   "cell_type": "code",
   "execution_count": 54,
   "id": "695cedc2",
   "metadata": {
    "slideshow": {
     "slide_type": "subslide"
    }
   },
   "outputs": [
    {
     "name": "stdout",
     "output_type": "stream",
     "text": [
      "[ True False  True]\n"
     ]
    },
    {
     "data": {
      "text/plain": [
       "array([[[10, 11, 12, 13, 14],\n",
       "        [15, 16, 17, 18, 19]],\n",
       "\n",
       "       [[50, 51, 52, 53, 54],\n",
       "        [55, 56, 57, 58, 59]]])"
      ]
     },
     "execution_count": 54,
     "metadata": {},
     "output_type": "execute_result"
    }
   ],
   "source": [
    "parzystosc = np.array(['parzysta', 'nieparzysta', 'parzysta'])\n",
    "print(parzystosc=='parzysta')\n",
    "tablica[parzystosc=='parzysta',2:4,:]"
   ]
  },
  {
   "cell_type": "markdown",
   "id": "4e9672f4",
   "metadata": {
    "slideshow": {
     "slide_type": "subslide"
    }
   },
   "source": [
    "Użycie znaku `~` powoduje wstawienie wszystkich indeksów oprócz podanych"
   ]
  },
  {
   "cell_type": "code",
   "execution_count": 55,
   "id": "b87defb8",
   "metadata": {
    "slideshow": {
     "slide_type": "subslide"
    }
   },
   "outputs": [
    {
     "data": {
      "text/plain": [
       "array([[[ 0,  1,  2,  3,  4],\n",
       "        [ 5,  6,  7,  8,  9],\n",
       "        [10, 11, 12, 13, 14],\n",
       "        [15, 16, 17, 18, 19]],\n",
       "\n",
       "       [[ 7,  7,  7,  7,  7],\n",
       "        [ 7,  7,  7,  7,  7],\n",
       "        [ 7,  7,  7,  7,  7],\n",
       "        [ 7,  7,  7,  7,  7]],\n",
       "\n",
       "       [[40, 41, 42, 43, 44],\n",
       "        [45, 46, 47, 48, 49],\n",
       "        [50, 51, 52, 53, 54],\n",
       "        [55, 56, 57, 58, 59]]])"
      ]
     },
     "execution_count": 55,
     "metadata": {},
     "output_type": "execute_result"
    }
   ],
   "source": [
    "tablica"
   ]
  },
  {
   "cell_type": "code",
   "execution_count": 58,
   "id": "1ecb6753",
   "metadata": {
    "slideshow": {
     "slide_type": "subslide"
    }
   },
   "outputs": [
    {
     "data": {
      "text/plain": [
       "array([[[7, 7, 7, 7, 7],\n",
       "        [7, 7, 7, 7, 7],\n",
       "        [7, 7, 7, 7, 7]]])"
      ]
     },
     "execution_count": 58,
     "metadata": {},
     "output_type": "execute_result"
    }
   ],
   "source": [
    "tablica[~(parzystosc=='parzysta'),~2:4,:] # które numery wierszy są wyświetlane?"
   ]
  },
  {
   "cell_type": "markdown",
   "id": "0cfd5d4a",
   "metadata": {
    "slideshow": {
     "slide_type": "subslide"
    }
   },
   "source": [
    "Możliwe jest tworzenie bardziej skomplikowanych warunków logicznych z wykorzystaniem operatorów `|` (lub), `&` (i) oraz `!` (negacja)."
   ]
  },
  {
   "cell_type": "markdown",
   "id": "36819ccc",
   "metadata": {
    "slideshow": {
     "slide_type": "slide"
    }
   },
   "source": [
    "## Indeksowanie wektorami"
   ]
  },
  {
   "cell_type": "markdown",
   "id": "18ef8277",
   "metadata": {
    "slideshow": {
     "slide_type": "subslide"
    }
   },
   "source": [
    "Możliwe jest także indeksowanie wektorami liczba całkowitych:"
   ]
  },
  {
   "cell_type": "code",
   "execution_count": 60,
   "id": "34b6a499",
   "metadata": {
    "slideshow": {
     "slide_type": "fragment"
    }
   },
   "outputs": [
    {
     "name": "stdout",
     "output_type": "stream",
     "text": [
      "[10 11 12 13 14 15 16 17 18 19]\n",
      "[ 5  4 -1  9]\n"
     ]
    }
   ],
   "source": [
    "tablica = np.arange(10,20)\n",
    "print(tablica)\n",
    "tablica_indeksow = np.array([5,4,-1,9])\n",
    "print(tablica_indeksow)"
   ]
  },
  {
   "cell_type": "code",
   "execution_count": 61,
   "id": "967e78d2",
   "metadata": {
    "slideshow": {
     "slide_type": "fragment"
    }
   },
   "outputs": [
    {
     "name": "stdout",
     "output_type": "stream",
     "text": [
      "[15 14 19 19]\n"
     ]
    }
   ],
   "source": [
    "print(tablica[tablica_indeksow])"
   ]
  },
  {
   "cell_type": "markdown",
   "id": "e7a608e8",
   "metadata": {
    "slideshow": {
     "slide_type": "subslide"
    }
   },
   "source": [
    "W przypadku podania większej liczby argumentów jako indeksy, wybierane są krotki z poszczególnych pozycji argumentów:"
   ]
  },
  {
   "cell_type": "code",
   "execution_count": 62,
   "id": "57c7fad5",
   "metadata": {
    "slideshow": {
     "slide_type": "subslide"
    }
   },
   "outputs": [
    {
     "data": {
      "text/plain": [
       "array([[[  0,   1,   2,   3,   4,   5],\n",
       "        [  6,   7,   8,   9,  10,  11],\n",
       "        [ 12,  13,  14,  15,  16,  17],\n",
       "        [ 18,  19,  20,  21,  22,  23],\n",
       "        [ 24,  25,  26,  27,  28,  29]],\n",
       "\n",
       "       [[ 30,  31,  32,  33,  34,  35],\n",
       "        [ 36,  37,  38,  39,  40,  41],\n",
       "        [ 42,  43,  44,  45,  46,  47],\n",
       "        [ 48,  49,  50,  51,  52,  53],\n",
       "        [ 54,  55,  56,  57,  58,  59]],\n",
       "\n",
       "       [[ 60,  61,  62,  63,  64,  65],\n",
       "        [ 66,  67,  68,  69,  70,  71],\n",
       "        [ 72,  73,  74,  75,  76,  77],\n",
       "        [ 78,  79,  80,  81,  82,  83],\n",
       "        [ 84,  85,  86,  87,  88,  89]],\n",
       "\n",
       "       [[ 90,  91,  92,  93,  94,  95],\n",
       "        [ 96,  97,  98,  99, 100, 101],\n",
       "        [102, 103, 104, 105, 106, 107],\n",
       "        [108, 109, 110, 111, 112, 113],\n",
       "        [114, 115, 116, 117, 118, 119]]])"
      ]
     },
     "execution_count": 62,
     "metadata": {},
     "output_type": "execute_result"
    }
   ],
   "source": [
    "tablica = np.arange(4*5*6).reshape((4,5,6))\n",
    "tablica"
   ]
  },
  {
   "cell_type": "code",
   "execution_count": null,
   "id": "6c5d91d7",
   "metadata": {
    "slideshow": {
     "slide_type": "skip"
    }
   },
   "outputs": [],
   "source": [
    "# pierwsza strona trzeci wiersz, trzecia strona czwarty wiersz, czwarta strona piąty wiersz"
   ]
  },
  {
   "cell_type": "code",
   "execution_count": 63,
   "id": "ab29e3c1",
   "metadata": {
    "slideshow": {
     "slide_type": "subslide"
    }
   },
   "outputs": [
    {
     "data": {
      "text/plain": [
       "array([[ 12,  13,  14,  15,  16,  17],\n",
       "       [ 78,  79,  80,  81,  82,  83],\n",
       "       [114, 115, 116, 117, 118, 119]])"
      ]
     },
     "execution_count": 63,
     "metadata": {},
     "output_type": "execute_result"
    }
   ],
   "source": [
    "tablica[[0,2,3], [2,3,4]] "
   ]
  },
  {
   "cell_type": "code",
   "execution_count": 64,
   "id": "c6a12ce5",
   "metadata": {
    "slideshow": {
     "slide_type": "fragment"
    }
   },
   "outputs": [
    {
     "data": {
      "text/plain": [
       "array([ 13,  80, 117])"
      ]
     },
     "execution_count": 64,
     "metadata": {},
     "output_type": "execute_result"
    }
   ],
   "source": [
    "tablica[[0,2,3], [2,3,4], [-5,-4,-3]]"
   ]
  },
  {
   "cell_type": "markdown",
   "id": "3581db7d",
   "metadata": {
    "slideshow": {
     "slide_type": "subslide"
    }
   },
   "source": [
    "W przypadku indeksowania wektorami całkowitoliczbowymi tworzone są kopie (w przeciwieństwie do wycinków)."
   ]
  },
  {
   "cell_type": "markdown",
   "id": "d8c23b7e",
   "metadata": {
    "slideshow": {
     "slide_type": "slide"
    }
   },
   "source": [
    "## Transpozycja, permutacja osi"
   ]
  },
  {
   "cell_type": "markdown",
   "id": "09304b6e",
   "metadata": {
    "slideshow": {
     "slide_type": "subslide"
    }
   },
   "source": [
    "Tablice dysponują atrybutem T dającym dostęp do tablicy transponowanej"
   ]
  },
  {
   "cell_type": "code",
   "execution_count": 65,
   "id": "b1434ad6",
   "metadata": {
    "slideshow": {
     "slide_type": "fragment"
    }
   },
   "outputs": [
    {
     "data": {
      "text/plain": [
       "array([[ 0,  1,  2,  3,  4,  5],\n",
       "       [ 6,  7,  8,  9, 10, 11],\n",
       "       [12, 13, 14, 15, 16, 17]])"
      ]
     },
     "execution_count": 65,
     "metadata": {},
     "output_type": "execute_result"
    }
   ],
   "source": [
    "tablica = np.arange(3*6).reshape((3,6))\n",
    "tablica"
   ]
  },
  {
   "cell_type": "code",
   "execution_count": 66,
   "id": "deb041c6",
   "metadata": {
    "slideshow": {
     "slide_type": "subslide"
    }
   },
   "outputs": [
    {
     "data": {
      "text/plain": [
       "array([[ 0,  6, 12],\n",
       "       [ 1,  7, 13],\n",
       "       [ 2,  8, 14],\n",
       "       [ 3,  9, 15],\n",
       "       [ 4, 10, 16],\n",
       "       [ 5, 11, 17]])"
      ]
     },
     "execution_count": 66,
     "metadata": {},
     "output_type": "execute_result"
    }
   ],
   "source": [
    "tablica.T"
   ]
  },
  {
   "cell_type": "markdown",
   "id": "c303317a",
   "metadata": {
    "slideshow": {
     "slide_type": "subslide"
    }
   },
   "source": [
    "Możliwe jest także wykorzystanie metody `transpose`"
   ]
  },
  {
   "cell_type": "code",
   "execution_count": 67,
   "id": "7573d279",
   "metadata": {
    "slideshow": {
     "slide_type": "fragment"
    }
   },
   "outputs": [
    {
     "data": {
      "text/plain": [
       "array([[ 0,  6, 12],\n",
       "       [ 1,  7, 13],\n",
       "       [ 2,  8, 14],\n",
       "       [ 3,  9, 15],\n",
       "       [ 4, 10, 16],\n",
       "       [ 5, 11, 17]])"
      ]
     },
     "execution_count": 67,
     "metadata": {},
     "output_type": "execute_result"
    }
   ],
   "source": [
    "tablica.transpose()"
   ]
  },
  {
   "cell_type": "markdown",
   "id": "3a2eaa1a",
   "metadata": {
    "slideshow": {
     "slide_type": "subslide"
    }
   },
   "source": [
    "W przypadku tablic o większej liczbie wymiarów do metody transpose możemy podać permutację, która określa w jaki sposób zostaną zamienione osie"
   ]
  },
  {
   "cell_type": "code",
   "execution_count": 68,
   "id": "6c454c9d",
   "metadata": {
    "slideshow": {
     "slide_type": "fragment"
    }
   },
   "outputs": [
    {
     "data": {
      "text/plain": [
       "array([[[ 0,  1,  2,  3,  4,  5],\n",
       "        [ 6,  7,  8,  9, 10, 11],\n",
       "        [12, 13, 14, 15, 16, 17]],\n",
       "\n",
       "       [[18, 19, 20, 21, 22, 23],\n",
       "        [24, 25, 26, 27, 28, 29],\n",
       "        [30, 31, 32, 33, 34, 35]]])"
      ]
     },
     "execution_count": 68,
     "metadata": {},
     "output_type": "execute_result"
    }
   ],
   "source": [
    "tablica = np.arange(2*3*6).reshape((2,3,6))\n",
    "tablica"
   ]
  },
  {
   "cell_type": "code",
   "execution_count": 69,
   "id": "f33daafa",
   "metadata": {
    "slideshow": {
     "slide_type": "subslide"
    }
   },
   "outputs": [
    {
     "data": {
      "text/plain": [
       "array([[[ 0,  6, 12],\n",
       "        [18, 24, 30]],\n",
       "\n",
       "       [[ 1,  7, 13],\n",
       "        [19, 25, 31]],\n",
       "\n",
       "       [[ 2,  8, 14],\n",
       "        [20, 26, 32]],\n",
       "\n",
       "       [[ 3,  9, 15],\n",
       "        [21, 27, 33]],\n",
       "\n",
       "       [[ 4, 10, 16],\n",
       "        [22, 28, 34]],\n",
       "\n",
       "       [[ 5, 11, 17],\n",
       "        [23, 29, 35]]])"
      ]
     },
     "execution_count": 69,
     "metadata": {},
     "output_type": "execute_result"
    }
   ],
   "source": [
    "tablica.transpose((2,0,1)) # czy ktoś to jeszcze rozumie? "
   ]
  },
  {
   "cell_type": "markdown",
   "id": "4d978cdb",
   "metadata": {
    "slideshow": {
     "slide_type": "subslide"
    }
   },
   "source": [
    "Do zamiany osi można wykorzystać metodę `swapaxes()`."
   ]
  },
  {
   "cell_type": "markdown",
   "id": "28b1cb92",
   "metadata": {
    "slideshow": {
     "slide_type": "slide"
    }
   },
   "source": [
    "## Funkcje uniwersalne"
   ]
  },
  {
   "cell_type": "markdown",
   "id": "e042dd0b",
   "metadata": {
    "slideshow": {
     "slide_type": "subslide"
    }
   },
   "source": [
    "NumPy oferuje zestaw funkcji uniwersalnych (*universal function*, w skróce *ufunc*) do operacji na tablicach."
   ]
  },
  {
   "cell_type": "code",
   "execution_count": 3,
   "id": "e4cdc3ad",
   "metadata": {
    "slideshow": {
     "slide_type": "fragment"
    }
   },
   "outputs": [
    {
     "data": {
      "text/plain": [
       "array([[0, 1, 2, 3, 4],\n",
       "       [5, 6, 7, 8, 9]])"
      ]
     },
     "execution_count": 3,
     "metadata": {},
     "output_type": "execute_result"
    }
   ],
   "source": [
    "tablica = np.arange(10).reshape(2,5)\n",
    "tablica"
   ]
  },
  {
   "cell_type": "code",
   "execution_count": 4,
   "id": "fc3eea52",
   "metadata": {
    "slideshow": {
     "slide_type": "fragment"
    }
   },
   "outputs": [
    {
     "data": {
      "text/plain": [
       "array([[0.        , 1.        , 1.41421356, 1.73205081, 2.        ],\n",
       "       [2.23606798, 2.44948974, 2.64575131, 2.82842712, 3.        ]])"
      ]
     },
     "execution_count": 4,
     "metadata": {},
     "output_type": "execute_result"
    }
   ],
   "source": [
    "np.sqrt(tablica) #pierwiastek z wszystkich elementów tablicy"
   ]
  },
  {
   "cell_type": "code",
   "execution_count": 5,
   "id": "1896495e",
   "metadata": {
    "slideshow": {
     "slide_type": "subslide"
    }
   },
   "outputs": [
    {
     "name": "stdout",
     "output_type": "stream",
     "text": [
      "[[10  9  8  7  6]\n",
      " [ 5  4  3  2  1]]\n",
      "[[0 1 2 3 4]\n",
      " [5 6 7 8 9]]\n"
     ]
    }
   ],
   "source": [
    "tablica2 = np.arange(10,0,-1).reshape(2,5)\n",
    "print(tablica2)\n",
    "print(tablica)"
   ]
  },
  {
   "cell_type": "code",
   "execution_count": 6,
   "id": "7b26cca5",
   "metadata": {
    "slideshow": {
     "slide_type": "fragment"
    }
   },
   "outputs": [
    {
     "data": {
      "text/plain": [
       "array([[0, 1, 2, 3, 4],\n",
       "       [5, 4, 3, 2, 1]])"
      ]
     },
     "execution_count": 6,
     "metadata": {},
     "output_type": "execute_result"
    }
   ],
   "source": [
    "np.minimum(tablica, tablica2) # minimum z poszczególnych pozycji obu tablic"
   ]
  },
  {
   "cell_type": "markdown",
   "id": "9a21ccb9",
   "metadata": {
    "slideshow": {
     "slide_type": "subslide"
    }
   },
   "source": [
    "Pełny zestaw funcji uniwersalnych: https://numpy.org/doc/stable/reference/ufuncs.html"
   ]
  },
  {
   "cell_type": "markdown",
   "id": "a356f9e5",
   "metadata": {
    "slideshow": {
     "slide_type": "slide"
    }
   },
   "source": [
    "## Operacje warunkowe"
   ]
  },
  {
   "cell_type": "markdown",
   "id": "51d9f7c0",
   "metadata": {
    "slideshow": {
     "slide_type": "subslide"
    }
   },
   "source": [
    "Funkcja `where` umożliwia wykorzystanie tablic logicznych do wyboru elementów z tablic wejściowych"
   ]
  },
  {
   "cell_type": "code",
   "execution_count": 7,
   "id": "c9ce86c0",
   "metadata": {
    "slideshow": {
     "slide_type": "fragment"
    }
   },
   "outputs": [
    {
     "data": {
      "text/plain": [
       "array([ 1,  2,  3,  4,  5,  6,  7,  8,  9, 10])"
      ]
     },
     "execution_count": 7,
     "metadata": {},
     "output_type": "execute_result"
    }
   ],
   "source": [
    "tabA = np.arange(1,11)\n",
    "tabA"
   ]
  },
  {
   "cell_type": "code",
   "execution_count": 8,
   "id": "c9c24ef6",
   "metadata": {
    "slideshow": {
     "slide_type": "fragment"
    }
   },
   "outputs": [
    {
     "data": {
      "text/plain": [
       "array([ 5,  4,  3,  2,  1,  0, -1, -2, -3, -4])"
      ]
     },
     "execution_count": 8,
     "metadata": {},
     "output_type": "execute_result"
    }
   ],
   "source": [
    "tabB = np.arange(5,-5,-1)\n",
    "tabB"
   ]
  },
  {
   "cell_type": "code",
   "execution_count": 9,
   "id": "3270f032",
   "metadata": {
    "slideshow": {
     "slide_type": "fragment"
    }
   },
   "outputs": [
    {
     "data": {
      "text/plain": [
       "array([ True,  True, False, False, False,  True,  True, False,  True,\n",
       "       False])"
      ]
     },
     "execution_count": 9,
     "metadata": {},
     "output_type": "execute_result"
    }
   ],
   "source": [
    "tabLog = np.array([True, True, False, False, False, True, True, False, True, False])\n",
    "tabLog"
   ]
  },
  {
   "cell_type": "code",
   "execution_count": 10,
   "id": "bb46d4e9",
   "metadata": {
    "slideshow": {
     "slide_type": "subslide"
    }
   },
   "outputs": [
    {
     "name": "stdout",
     "output_type": "stream",
     "text": [
      "[ 1  2  3  4  5  6  7  8  9 10]\n",
      "[ 5  4  3  2  1  0 -1 -2 -3 -4]\n",
      "[ True  True False False False  True  True False  True False]\n"
     ]
    }
   ],
   "source": [
    "print(tabA)\n",
    "print(tabB)\n",
    "print(tabLog)"
   ]
  },
  {
   "cell_type": "code",
   "execution_count": 11,
   "id": "893319e5",
   "metadata": {
    "slideshow": {
     "slide_type": "fragment"
    }
   },
   "outputs": [
    {
     "data": {
      "text/plain": [
       "array([ 1,  2,  3,  2,  1,  6,  7, -2,  9, -4])"
      ]
     },
     "execution_count": 11,
     "metadata": {},
     "output_type": "execute_result"
    }
   ],
   "source": [
    "np.where(tabLog, tabA, tabB)"
   ]
  },
  {
   "cell_type": "code",
   "execution_count": 12,
   "id": "a95f4ca4",
   "metadata": {
    "slideshow": {
     "slide_type": "fragment"
    }
   },
   "outputs": [
    {
     "data": {
      "text/plain": [
       "array([ 5,  4,  3,  4,  5,  6,  7,  8,  9, 10])"
      ]
     },
     "execution_count": 12,
     "metadata": {},
     "output_type": "execute_result"
    }
   ],
   "source": [
    "np.where(tabA>=tabB, tabA, tabB)"
   ]
  },
  {
   "cell_type": "code",
   "execution_count": 13,
   "id": "3e7b413b",
   "metadata": {
    "slideshow": {
     "slide_type": "fragment"
    }
   },
   "outputs": [
    {
     "data": {
      "text/plain": [
       "array([5, 4, 0, 0, 0, 1, 1, 0, 1, 0])"
      ]
     },
     "execution_count": 13,
     "metadata": {},
     "output_type": "execute_result"
    }
   ],
   "source": [
    "np.where(tabA>=tabB, tabLog, tabB) # skąd taki wynik?"
   ]
  },
  {
   "cell_type": "markdown",
   "id": "7b0c9d1a",
   "metadata": {
    "slideshow": {
     "slide_type": "subslide"
    }
   },
   "source": [
    "Możliwe jest łączenie wartości skalarnych i tablic"
   ]
  },
  {
   "cell_type": "code",
   "execution_count": 15,
   "id": "11f9a837",
   "metadata": {
    "slideshow": {
     "slide_type": "fragment"
    }
   },
   "outputs": [
    {
     "name": "stdout",
     "output_type": "stream",
     "text": [
      "[ 1  2  3  4  5  6  7  8  9 10]\n",
      "[ 5  4  3  2  1  0 -1 -2 -3 -4]\n",
      "[ True  True False False False  True  True False  True False]\n",
      "[False False  True  True  True  True  True  True  True  True]\n"
     ]
    }
   ],
   "source": [
    "print(tabA)\n",
    "print(tabB)\n",
    "print(tabLog)\n",
    "print(tabA>=tabB)"
   ]
  },
  {
   "cell_type": "code",
   "execution_count": 16,
   "id": "84c3acc2",
   "metadata": {
    "slideshow": {
     "slide_type": "fragment"
    }
   },
   "outputs": [
    {
     "data": {
      "text/plain": [
       "array([  5,   4, 100, 100, 100, 100, 100, 100, 100, 100])"
      ]
     },
     "execution_count": 16,
     "metadata": {},
     "output_type": "execute_result"
    }
   ],
   "source": [
    "np.where(tabA>=tabB, 100, tabB)"
   ]
  },
  {
   "cell_type": "markdown",
   "id": "bb835446",
   "metadata": {
    "slideshow": {
     "slide_type": "slide"
    }
   },
   "source": [
    "## Metody matematyczne i statystyczne tablic"
   ]
  },
  {
   "cell_type": "markdown",
   "id": "a2a9bc94",
   "metadata": {
    "slideshow": {
     "slide_type": "subslide"
    }
   },
   "source": [
    "Obiekty tablicowe NumPy posiadają podstawowe metody matematyczne i statystyczne, np. suma, średnia czy odchylenie standardowe"
   ]
  },
  {
   "cell_type": "code",
   "execution_count": 17,
   "id": "010b295d",
   "metadata": {
    "slideshow": {
     "slide_type": "subslide"
    }
   },
   "outputs": [
    {
     "data": {
      "text/plain": [
       "array([0, 1, 2, 3, 4, 5, 6, 7, 8, 9])"
      ]
     },
     "execution_count": 17,
     "metadata": {},
     "output_type": "execute_result"
    }
   ],
   "source": [
    "tablica = np.arange(10)\n",
    "tablica"
   ]
  },
  {
   "cell_type": "code",
   "execution_count": 18,
   "id": "3c7c5542",
   "metadata": {
    "slideshow": {
     "slide_type": "fragment"
    }
   },
   "outputs": [
    {
     "data": {
      "text/plain": [
       "4.5"
      ]
     },
     "execution_count": 18,
     "metadata": {},
     "output_type": "execute_result"
    }
   ],
   "source": [
    "tablica.mean()"
   ]
  },
  {
   "cell_type": "code",
   "execution_count": 19,
   "id": "d367fbe9",
   "metadata": {
    "slideshow": {
     "slide_type": "fragment"
    }
   },
   "outputs": [
    {
     "data": {
      "text/plain": [
       "45"
      ]
     },
     "execution_count": 19,
     "metadata": {},
     "output_type": "execute_result"
    }
   ],
   "source": [
    "tablica.sum()"
   ]
  },
  {
   "cell_type": "code",
   "execution_count": 20,
   "id": "f6484339",
   "metadata": {
    "slideshow": {
     "slide_type": "fragment"
    }
   },
   "outputs": [
    {
     "data": {
      "text/plain": [
       "2.8722813232690143"
      ]
     },
     "execution_count": 20,
     "metadata": {},
     "output_type": "execute_result"
    }
   ],
   "source": [
    "tablica.std()"
   ]
  },
  {
   "cell_type": "markdown",
   "id": "3e2cf264",
   "metadata": {
    "slideshow": {
     "slide_type": "subslide"
    }
   },
   "source": [
    "Dla tablic wielowymiarowych możliwe jest podanie osi"
   ]
  },
  {
   "cell_type": "code",
   "execution_count": 21,
   "id": "67d8db67",
   "metadata": {
    "slideshow": {
     "slide_type": "subslide"
    }
   },
   "outputs": [
    {
     "data": {
      "text/plain": [
       "array([[ 0,  1,  2,  3,  4],\n",
       "       [ 5,  6,  7,  8,  9],\n",
       "       [10, 11, 12, 13, 14],\n",
       "       [15, 16, 17, 18, 19]])"
      ]
     },
     "execution_count": 21,
     "metadata": {},
     "output_type": "execute_result"
    }
   ],
   "source": [
    "tablica = np.arange(4*5).reshape((4,5))\n",
    "tablica"
   ]
  },
  {
   "cell_type": "code",
   "execution_count": 22,
   "id": "5ea79aa8",
   "metadata": {
    "slideshow": {
     "slide_type": "fragment"
    }
   },
   "outputs": [
    {
     "data": {
      "text/plain": [
       "array([30, 34, 38, 42, 46])"
      ]
     },
     "execution_count": 22,
     "metadata": {},
     "output_type": "execute_result"
    }
   ],
   "source": [
    "tablica.sum(axis=0)"
   ]
  },
  {
   "cell_type": "code",
   "execution_count": 23,
   "id": "2a961e4b",
   "metadata": {
    "slideshow": {
     "slide_type": "fragment"
    }
   },
   "outputs": [
    {
     "data": {
      "text/plain": [
       "array([10, 35, 60, 85])"
      ]
     },
     "execution_count": 23,
     "metadata": {},
     "output_type": "execute_result"
    }
   ],
   "source": [
    "tablica.sum(axis=1)"
   ]
  },
  {
   "cell_type": "code",
   "execution_count": 24,
   "id": "5423a175",
   "metadata": {},
   "outputs": [
    {
     "data": {
      "text/plain": [
       "190"
      ]
     },
     "execution_count": 24,
     "metadata": {},
     "output_type": "execute_result"
    }
   ],
   "source": [
    "tablica.sum()"
   ]
  },
  {
   "cell_type": "markdown",
   "id": "6e97e6ed",
   "metadata": {
    "slideshow": {
     "slide_type": "subslide"
    }
   },
   "source": [
    "Pełna lista funkcji matematycznych: https://numpy.org/doc/stable/reference/routines.math.html\n",
    "Pełna lista funkcji statystycznych: https://numpy.org/doc/stable/reference/routines.statistics.html"
   ]
  },
  {
   "cell_type": "markdown",
   "id": "7c202671",
   "metadata": {
    "slideshow": {
     "slide_type": "slide"
    }
   },
   "source": [
    "## Metody dla tablic wartości logicznych"
   ]
  },
  {
   "cell_type": "markdown",
   "id": "f2c28694",
   "metadata": {
    "slideshow": {
     "slide_type": "subslide"
    }
   },
   "source": [
    "Niektóre metody wykonane dla tablic logicznych konwertują `True` do wartości 1, a `False` do wartości 0"
   ]
  },
  {
   "cell_type": "code",
   "execution_count": 25,
   "id": "90e12800",
   "metadata": {
    "slideshow": {
     "slide_type": "fragment"
    }
   },
   "outputs": [
    {
     "data": {
      "text/plain": [
       "array([ True,  True, False, False, False,  True,  True, False,  True,\n",
       "       False])"
      ]
     },
     "execution_count": 25,
     "metadata": {},
     "output_type": "execute_result"
    }
   ],
   "source": [
    "tab_log = np.array([True, True, False, False, False, True, True, False, True, False])\n",
    "tab_log"
   ]
  },
  {
   "cell_type": "code",
   "execution_count": 26,
   "id": "0a7fe72e",
   "metadata": {
    "slideshow": {
     "slide_type": "fragment"
    }
   },
   "outputs": [
    {
     "data": {
      "text/plain": [
       "5"
      ]
     },
     "execution_count": 26,
     "metadata": {},
     "output_type": "execute_result"
    }
   ],
   "source": [
    "tab_log.sum()"
   ]
  },
  {
   "cell_type": "markdown",
   "id": "8b93c3e9",
   "metadata": {
    "slideshow": {
     "slide_type": "subslide"
    }
   },
   "source": [
    "Metody `all` oraz `any` pozwalają stwierdzić, czy wszystkie bądź jakiekolwiek wartości tablicy zawierają `True`"
   ]
  },
  {
   "cell_type": "code",
   "execution_count": 27,
   "id": "446959da",
   "metadata": {
    "slideshow": {
     "slide_type": "fragment"
    }
   },
   "outputs": [
    {
     "name": "stdout",
     "output_type": "stream",
     "text": [
      "[ True  True False False False  True  True False  True False]\n"
     ]
    },
    {
     "data": {
      "text/plain": [
       "True"
      ]
     },
     "execution_count": 27,
     "metadata": {},
     "output_type": "execute_result"
    }
   ],
   "source": [
    "print(tab_log)\n",
    "tab_log.any()"
   ]
  },
  {
   "cell_type": "code",
   "execution_count": 28,
   "id": "ca776e3f",
   "metadata": {
    "slideshow": {
     "slide_type": "fragment"
    }
   },
   "outputs": [
    {
     "data": {
      "text/plain": [
       "False"
      ]
     },
     "execution_count": 28,
     "metadata": {},
     "output_type": "execute_result"
    }
   ],
   "source": [
    "tab_log.all()"
   ]
  },
  {
   "cell_type": "code",
   "execution_count": 29,
   "id": "a808ec04",
   "metadata": {
    "slideshow": {
     "slide_type": "subslide"
    }
   },
   "outputs": [
    {
     "data": {
      "text/plain": [
       "array([0, 1, 2, 3, 4, 5])"
      ]
     },
     "execution_count": 29,
     "metadata": {},
     "output_type": "execute_result"
    }
   ],
   "source": [
    "tabA = np.arange(6)\n",
    "tabA"
   ]
  },
  {
   "cell_type": "code",
   "execution_count": 30,
   "id": "b254c19c",
   "metadata": {
    "slideshow": {
     "slide_type": "fragment"
    }
   },
   "outputs": [
    {
     "data": {
      "text/plain": [
       "array([ 6,  7,  8,  9, 10, 11])"
      ]
     },
     "execution_count": 30,
     "metadata": {},
     "output_type": "execute_result"
    }
   ],
   "source": [
    "tabB = np.arange(6,12)\n",
    "tabB"
   ]
  },
  {
   "cell_type": "code",
   "execution_count": 31,
   "id": "8600288c",
   "metadata": {
    "slideshow": {
     "slide_type": "fragment"
    }
   },
   "outputs": [
    {
     "data": {
      "text/plain": [
       "array([ True,  True,  True,  True,  True,  True])"
      ]
     },
     "execution_count": 31,
     "metadata": {},
     "output_type": "execute_result"
    }
   ],
   "source": [
    "tabA < tabB"
   ]
  },
  {
   "cell_type": "code",
   "execution_count": 32,
   "id": "31a611ad",
   "metadata": {
    "slideshow": {
     "slide_type": "fragment"
    }
   },
   "outputs": [
    {
     "data": {
      "text/plain": [
       "True"
      ]
     },
     "execution_count": 32,
     "metadata": {},
     "output_type": "execute_result"
    }
   ],
   "source": [
    "(tabA < tabB).any()"
   ]
  },
  {
   "cell_type": "code",
   "execution_count": 33,
   "id": "08117c40",
   "metadata": {
    "slideshow": {
     "slide_type": "fragment"
    }
   },
   "outputs": [
    {
     "data": {
      "text/plain": [
       "True"
      ]
     },
     "execution_count": 33,
     "metadata": {},
     "output_type": "execute_result"
    }
   ],
   "source": [
    "(tabA < tabB).all()"
   ]
  },
  {
   "cell_type": "markdown",
   "id": "27a87e24",
   "metadata": {
    "slideshow": {
     "slide_type": "slide"
    }
   },
   "source": [
    "## Sortowanie"
   ]
  },
  {
   "cell_type": "code",
   "execution_count": 34,
   "id": "7c15d16f",
   "metadata": {
    "slideshow": {
     "slide_type": "subslide"
    }
   },
   "outputs": [
    {
     "data": {
      "text/plain": [
       "array([-1.30416192, -2.80962265, -2.10102215,  0.65837707, -0.50636097,\n",
       "        0.23817525,  0.89557263, -1.62207509,  0.86266815, -0.60614475,\n",
       "        1.47864372, -1.1077424 ,  0.36610181, -1.47263035,  0.31767583,\n",
       "        0.56495589, -0.39756436, -0.7224295 , -0.72074317, -0.46982044])"
      ]
     },
     "execution_count": 34,
     "metadata": {},
     "output_type": "execute_result"
    }
   ],
   "source": [
    "tablica = np.random.randn(20)\n",
    "tablica"
   ]
  },
  {
   "cell_type": "code",
   "execution_count": 35,
   "id": "5d5698df",
   "metadata": {
    "slideshow": {
     "slide_type": "fragment"
    }
   },
   "outputs": [
    {
     "data": {
      "text/plain": [
       "array([-2.80962265, -2.10102215, -1.62207509, -1.47263035, -1.30416192,\n",
       "       -1.1077424 , -0.7224295 , -0.72074317, -0.60614475, -0.50636097,\n",
       "       -0.46982044, -0.39756436,  0.23817525,  0.31767583,  0.36610181,\n",
       "        0.56495589,  0.65837707,  0.86266815,  0.89557263,  1.47864372])"
      ]
     },
     "execution_count": 35,
     "metadata": {},
     "output_type": "execute_result"
    }
   ],
   "source": [
    "tablica.sort()\n",
    "tablica"
   ]
  },
  {
   "cell_type": "markdown",
   "id": "13b50e29",
   "metadata": {
    "slideshow": {
     "slide_type": "slide"
    }
   },
   "source": [
    "## Operacje na zbiorach"
   ]
  },
  {
   "cell_type": "markdown",
   "id": "7f4adcba",
   "metadata": {
    "slideshow": {
     "slide_type": "subslide"
    }
   },
   "source": [
    "Do tablic można stosować operacje dotyczące zbiorów"
   ]
  },
  {
   "cell_type": "code",
   "execution_count": 36,
   "id": "6ee10512",
   "metadata": {
    "slideshow": {
     "slide_type": "fragment"
    }
   },
   "outputs": [
    {
     "data": {
      "text/plain": [
       "array([1, 2, 2, 3, 4, 4, 4, 5])"
      ]
     },
     "execution_count": 36,
     "metadata": {},
     "output_type": "execute_result"
    }
   ],
   "source": [
    "tablica = np.array([1,2,2,3,4,4,4,5])\n",
    "tablica"
   ]
  },
  {
   "cell_type": "markdown",
   "id": "51e1560a",
   "metadata": {
    "slideshow": {
     "slide_type": "fragment"
    }
   },
   "source": [
    "Wartości unikatowe"
   ]
  },
  {
   "cell_type": "code",
   "execution_count": 37,
   "id": "4942401b",
   "metadata": {
    "slideshow": {
     "slide_type": "fragment"
    }
   },
   "outputs": [
    {
     "data": {
      "text/plain": [
       "array([1, 2, 3, 4, 5])"
      ]
     },
     "execution_count": 37,
     "metadata": {},
     "output_type": "execute_result"
    }
   ],
   "source": [
    "np.unique(tablica)"
   ]
  },
  {
   "cell_type": "markdown",
   "id": "e7ef9080",
   "metadata": {
    "slideshow": {
     "slide_type": "subslide"
    }
   },
   "source": [
    "Które wartości z podanej tablicy zawiera tablica wejściowa?"
   ]
  },
  {
   "cell_type": "code",
   "execution_count": 38,
   "id": "a630304b",
   "metadata": {
    "slideshow": {
     "slide_type": "fragment"
    }
   },
   "outputs": [
    {
     "name": "stdout",
     "output_type": "stream",
     "text": [
      "[-1  0  1  2  3  4  5  6  7]\n",
      "[1 2 2 3 4 4 4 5]\n"
     ]
    }
   ],
   "source": [
    "wartosci = np.arange(-1,8)\n",
    "print(wartosci)\n",
    "print(tablica)"
   ]
  },
  {
   "cell_type": "code",
   "execution_count": 39,
   "id": "1e37952f",
   "metadata": {
    "slideshow": {
     "slide_type": "fragment"
    }
   },
   "outputs": [
    {
     "data": {
      "text/plain": [
       "array([False, False,  True,  True,  True,  True,  True, False, False])"
      ]
     },
     "execution_count": 39,
     "metadata": {},
     "output_type": "execute_result"
    }
   ],
   "source": [
    "np.in1d(wartosci,tablica)"
   ]
  },
  {
   "cell_type": "markdown",
   "id": "52c64457",
   "metadata": {
    "slideshow": {
     "slide_type": "fragment"
    }
   },
   "source": [
    "Wszystkie operacje na zbiorach: https://numpy.org/doc/stable/reference/routines.set.html"
   ]
  }
 ],
 "metadata": {
  "celltoolbar": "Slideshow",
  "kernelspec": {
   "display_name": "Python 3 (ipykernel)",
   "language": "python",
   "name": "python3"
  },
  "language_info": {
   "codemirror_mode": {
    "name": "ipython",
    "version": 3
   },
   "file_extension": ".py",
   "mimetype": "text/x-python",
   "name": "python",
   "nbconvert_exporter": "python",
   "pygments_lexer": "ipython3",
   "version": "3.11.5"
  }
 },
 "nbformat": 4,
 "nbformat_minor": 5
}
